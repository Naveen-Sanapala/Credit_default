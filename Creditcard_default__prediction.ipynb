{
  "nbformat": 4,
  "nbformat_minor": 0,
  "metadata": {
    "colab": {
      "name": "Creditcard_default _prediction.ipynb",
      "provenance": []
    },
    "kernelspec": {
      "name": "python3",
      "display_name": "Python 3"
    },
    "language_info": {
      "name": "python"
    }
  },
  "cells": [
    {
      "cell_type": "markdown",
      "source": [
        "About Dataset\n",
        "\n",
        "Dataset Information\n",
        "\n",
        "This dataset contains information on default payments, demographic factors, credit\n",
        "data, history of payment, and bill statements of credit card clients in Taiwan from April\n",
        "2005 to September 2005.\n",
        "Content\n",
        "There is 25 Variable:\n",
        "\n",
        "● ID: ID of each client\n",
        "\n",
        "● LIMIT_BAL: Amount of given credit in NT dollars (includes individual and\n",
        "family/supplementary credit\n",
        "\n",
        "● SEX: Gender (1=male, 2=female)\n",
        "\n",
        "● EDUCATION: (1=graduate school, 2=university, 3=high school, 4=others,\n",
        "5=unknown, 6=unknown)\n",
        "\n",
        "● MARRIAGE: Marital status (1=married, 2=single, 3=others)\n",
        "\n",
        "● AGE: Age in years\n",
        "\n",
        "● PAY_0: Repayment status in September, 2005 (-1=pay duly, 1=payment delay for\n",
        "one month, 2=payment delay for two months, ... 8=payment delay for eight\n",
        "months, 9=payment delay for nine months and above)\n",
        "\n",
        "● PAY_2: Repayment status in August, 2005 (scale same as above)\n",
        "\n",
        "● PAY_3: Repayment status in July, 2005 (scale same as above)\n",
        "\n",
        "● PAY_4: Repayment status in June, 2005 (scale same as above)\n",
        "\n",
        "● PAY_5: Repayment status in May, 2005 (scale same as above)\n",
        "\n",
        "● PAY_6: Repayment status in April, 2005 (scale same as above)\n",
        "\n",
        "● BILL_AMT1: Amount of bill statement in September, 2005 (NT dollar)\n",
        "\n",
        "● BILL_AMT2: Amount of bill statement in August, 2005 (NT dollar)\n",
        "\n",
        "● BILL_AMT3: Amount of bill statement in July, 2005 (NT dollar)\n",
        "\n",
        "● BILL_AMT4: Amount of bill statement in June, 2005 (NT dollar)\n",
        "\n",
        "● BILL_AMT5: Amount of bill statement in May, 2005 (NT dollar)\n",
        "\n",
        "● BILL_AMT6: Amount of bill statement in April, 2005 (NT dollar)\n",
        "\n",
        "● PAY_AMT1: Amount of previous payment in September, 2005 (NT dollar)\n",
        "\n",
        "● PAY_AMT2: Amount of previous payment in August, 2005 (NT dollar)\n",
        "\n",
        "● PAY_AMT3: Amount of previous payment in July, 2005 (NT dollar)\n",
        "\n",
        "● PAY_AMT4: Amount of previous payment in June, 2005 (NT dollar)\n",
        "\n",
        "● PAY_AMT5: Amount of previous payment in May, 2005 (NT dollar)\n",
        "\n",
        "● PAY_AMT6: Amount of previous payment in April, 2005 (NT dollar)\n",
        "\n",
        "● default.payment.next.month: Default payment (1=yes, 0=no)\n",
        "\n",
        "Inspiration\n",
        "\n",
        "Some ideas for exploration:\n",
        "1. How does the probability of default payment vary by categories of different\n",
        "demographic variables?\n",
        "2. Which variables are the strongest predictors of default payment\n",
        "Note: After completion of all the task you need to create a PowerPoint presentation\n",
        "That should contain the :\n",
        "1. Problem Statement\n",
        "2. Tools Used\n",
        "3. Approaches\n",
        "4. EDA Insights\n",
        "5. Best ML Model\n",
        "6. Evaluation Metrics of Model\n",
        "7. Future Development"
      ],
      "metadata": {
        "id": "lqoWK4jE5nc4"
      }
    },
    {
      "cell_type": "markdown",
      "source": [
        "#Importing the Libraries"
      ],
      "metadata": {
        "id": "cqHNjAKBoxSq"
      }
    },
    {
      "cell_type": "code",
      "source": [
        "import pandas as pd\n",
        "import seaborn as sns\n",
        "import matplotlib.pyplot as plt\n",
        "# Importing test_train_split from sklearn library\n",
        "from sklearn.model_selection import train_test_split\n",
        "# Importing random forest classifier from sklearn library\n",
        "from sklearn.ensemble import RandomForestClassifier\n",
        "\n",
        "# Importing classification report and confusion matrix from sklearn metrics\n",
        "from sklearn.metrics import classification_report,confusion_matrix, accuracy_score\n",
        "# GridSearchCV to find optimal n_estimators\n",
        "from sklearn.model_selection import KFold\n",
        "from sklearn.model_selection import GridSearchCV\n"
      ],
      "metadata": {
        "id": "By8ttYdBpSr9"
      },
      "execution_count": 1,
      "outputs": []
    },
    {
      "cell_type": "markdown",
      "source": [
        "# Importing the dataset"
      ],
      "metadata": {
        "id": "13i0ArKHplsW"
      }
    },
    {
      "cell_type": "code",
      "source": [
        "df=pd.read_csv(\"/content/UCI_Credit_Card.csv\")"
      ],
      "metadata": {
        "id": "kZkfFZdfpkgp"
      },
      "execution_count": 2,
      "outputs": []
    },
    {
      "cell_type": "markdown",
      "source": [
        "# Exploring with Dataset\n"
      ],
      "metadata": {
        "id": "buSoue7wt71n"
      }
    },
    {
      "cell_type": "code",
      "source": [
        "df.head().T"
      ],
      "metadata": {
        "colab": {
          "base_uri": "https://localhost:8080/",
          "height": 833
        },
        "id": "0e-JrURIz1nP",
        "outputId": "2c7bf893-13da-4d73-fe61-d7fb5da6dffb"
      },
      "execution_count": 3,
      "outputs": [
        {
          "output_type": "execute_result",
          "data": {
            "text/plain": [
              "                                  0         1        2        3        4\n",
              "ID                              1.0       2.0      3.0      4.0      5.0\n",
              "LIMIT_BAL                   20000.0  120000.0  90000.0  50000.0  50000.0\n",
              "SEX                             2.0       2.0      2.0      2.0      1.0\n",
              "EDUCATION                       2.0       2.0      2.0      2.0      2.0\n",
              "MARRIAGE                        1.0       2.0      2.0      1.0      1.0\n",
              "AGE                            24.0      26.0     34.0     37.0     57.0\n",
              "PAY_0                           2.0      -1.0      0.0      0.0     -1.0\n",
              "PAY_2                           2.0       2.0      0.0      0.0      0.0\n",
              "PAY_3                          -1.0       0.0      0.0      0.0     -1.0\n",
              "PAY_4                          -1.0       0.0      0.0      0.0      0.0\n",
              "PAY_5                          -2.0       0.0      0.0      0.0      0.0\n",
              "PAY_6                          -2.0       2.0      0.0      0.0      0.0\n",
              "BILL_AMT1                    3913.0    2682.0  29239.0  46990.0   8617.0\n",
              "BILL_AMT2                    3102.0    1725.0  14027.0  48233.0   5670.0\n",
              "BILL_AMT3                     689.0    2682.0  13559.0  49291.0  35835.0\n",
              "BILL_AMT4                       0.0    3272.0  14331.0  28314.0  20940.0\n",
              "BILL_AMT5                       0.0    3455.0  14948.0  28959.0  19146.0\n",
              "BILL_AMT6                       0.0    3261.0  15549.0  29547.0  19131.0\n",
              "PAY_AMT1                        0.0       0.0   1518.0   2000.0   2000.0\n",
              "PAY_AMT2                      689.0    1000.0   1500.0   2019.0  36681.0\n",
              "PAY_AMT3                        0.0    1000.0   1000.0   1200.0  10000.0\n",
              "PAY_AMT4                        0.0    1000.0   1000.0   1100.0   9000.0\n",
              "PAY_AMT5                        0.0       0.0   1000.0   1069.0    689.0\n",
              "PAY_AMT6                        0.0    2000.0   5000.0   1000.0    679.0\n",
              "default.payment.next.month      1.0       1.0      0.0      0.0      0.0"
            ],
            "text/html": [
              "\n",
              "  <div id=\"df-a420514c-b18d-437b-b921-38af03d8d9ac\">\n",
              "    <div class=\"colab-df-container\">\n",
              "      <div>\n",
              "<style scoped>\n",
              "    .dataframe tbody tr th:only-of-type {\n",
              "        vertical-align: middle;\n",
              "    }\n",
              "\n",
              "    .dataframe tbody tr th {\n",
              "        vertical-align: top;\n",
              "    }\n",
              "\n",
              "    .dataframe thead th {\n",
              "        text-align: right;\n",
              "    }\n",
              "</style>\n",
              "<table border=\"1\" class=\"dataframe\">\n",
              "  <thead>\n",
              "    <tr style=\"text-align: right;\">\n",
              "      <th></th>\n",
              "      <th>0</th>\n",
              "      <th>1</th>\n",
              "      <th>2</th>\n",
              "      <th>3</th>\n",
              "      <th>4</th>\n",
              "    </tr>\n",
              "  </thead>\n",
              "  <tbody>\n",
              "    <tr>\n",
              "      <th>ID</th>\n",
              "      <td>1.0</td>\n",
              "      <td>2.0</td>\n",
              "      <td>3.0</td>\n",
              "      <td>4.0</td>\n",
              "      <td>5.0</td>\n",
              "    </tr>\n",
              "    <tr>\n",
              "      <th>LIMIT_BAL</th>\n",
              "      <td>20000.0</td>\n",
              "      <td>120000.0</td>\n",
              "      <td>90000.0</td>\n",
              "      <td>50000.0</td>\n",
              "      <td>50000.0</td>\n",
              "    </tr>\n",
              "    <tr>\n",
              "      <th>SEX</th>\n",
              "      <td>2.0</td>\n",
              "      <td>2.0</td>\n",
              "      <td>2.0</td>\n",
              "      <td>2.0</td>\n",
              "      <td>1.0</td>\n",
              "    </tr>\n",
              "    <tr>\n",
              "      <th>EDUCATION</th>\n",
              "      <td>2.0</td>\n",
              "      <td>2.0</td>\n",
              "      <td>2.0</td>\n",
              "      <td>2.0</td>\n",
              "      <td>2.0</td>\n",
              "    </tr>\n",
              "    <tr>\n",
              "      <th>MARRIAGE</th>\n",
              "      <td>1.0</td>\n",
              "      <td>2.0</td>\n",
              "      <td>2.0</td>\n",
              "      <td>1.0</td>\n",
              "      <td>1.0</td>\n",
              "    </tr>\n",
              "    <tr>\n",
              "      <th>AGE</th>\n",
              "      <td>24.0</td>\n",
              "      <td>26.0</td>\n",
              "      <td>34.0</td>\n",
              "      <td>37.0</td>\n",
              "      <td>57.0</td>\n",
              "    </tr>\n",
              "    <tr>\n",
              "      <th>PAY_0</th>\n",
              "      <td>2.0</td>\n",
              "      <td>-1.0</td>\n",
              "      <td>0.0</td>\n",
              "      <td>0.0</td>\n",
              "      <td>-1.0</td>\n",
              "    </tr>\n",
              "    <tr>\n",
              "      <th>PAY_2</th>\n",
              "      <td>2.0</td>\n",
              "      <td>2.0</td>\n",
              "      <td>0.0</td>\n",
              "      <td>0.0</td>\n",
              "      <td>0.0</td>\n",
              "    </tr>\n",
              "    <tr>\n",
              "      <th>PAY_3</th>\n",
              "      <td>-1.0</td>\n",
              "      <td>0.0</td>\n",
              "      <td>0.0</td>\n",
              "      <td>0.0</td>\n",
              "      <td>-1.0</td>\n",
              "    </tr>\n",
              "    <tr>\n",
              "      <th>PAY_4</th>\n",
              "      <td>-1.0</td>\n",
              "      <td>0.0</td>\n",
              "      <td>0.0</td>\n",
              "      <td>0.0</td>\n",
              "      <td>0.0</td>\n",
              "    </tr>\n",
              "    <tr>\n",
              "      <th>PAY_5</th>\n",
              "      <td>-2.0</td>\n",
              "      <td>0.0</td>\n",
              "      <td>0.0</td>\n",
              "      <td>0.0</td>\n",
              "      <td>0.0</td>\n",
              "    </tr>\n",
              "    <tr>\n",
              "      <th>PAY_6</th>\n",
              "      <td>-2.0</td>\n",
              "      <td>2.0</td>\n",
              "      <td>0.0</td>\n",
              "      <td>0.0</td>\n",
              "      <td>0.0</td>\n",
              "    </tr>\n",
              "    <tr>\n",
              "      <th>BILL_AMT1</th>\n",
              "      <td>3913.0</td>\n",
              "      <td>2682.0</td>\n",
              "      <td>29239.0</td>\n",
              "      <td>46990.0</td>\n",
              "      <td>8617.0</td>\n",
              "    </tr>\n",
              "    <tr>\n",
              "      <th>BILL_AMT2</th>\n",
              "      <td>3102.0</td>\n",
              "      <td>1725.0</td>\n",
              "      <td>14027.0</td>\n",
              "      <td>48233.0</td>\n",
              "      <td>5670.0</td>\n",
              "    </tr>\n",
              "    <tr>\n",
              "      <th>BILL_AMT3</th>\n",
              "      <td>689.0</td>\n",
              "      <td>2682.0</td>\n",
              "      <td>13559.0</td>\n",
              "      <td>49291.0</td>\n",
              "      <td>35835.0</td>\n",
              "    </tr>\n",
              "    <tr>\n",
              "      <th>BILL_AMT4</th>\n",
              "      <td>0.0</td>\n",
              "      <td>3272.0</td>\n",
              "      <td>14331.0</td>\n",
              "      <td>28314.0</td>\n",
              "      <td>20940.0</td>\n",
              "    </tr>\n",
              "    <tr>\n",
              "      <th>BILL_AMT5</th>\n",
              "      <td>0.0</td>\n",
              "      <td>3455.0</td>\n",
              "      <td>14948.0</td>\n",
              "      <td>28959.0</td>\n",
              "      <td>19146.0</td>\n",
              "    </tr>\n",
              "    <tr>\n",
              "      <th>BILL_AMT6</th>\n",
              "      <td>0.0</td>\n",
              "      <td>3261.0</td>\n",
              "      <td>15549.0</td>\n",
              "      <td>29547.0</td>\n",
              "      <td>19131.0</td>\n",
              "    </tr>\n",
              "    <tr>\n",
              "      <th>PAY_AMT1</th>\n",
              "      <td>0.0</td>\n",
              "      <td>0.0</td>\n",
              "      <td>1518.0</td>\n",
              "      <td>2000.0</td>\n",
              "      <td>2000.0</td>\n",
              "    </tr>\n",
              "    <tr>\n",
              "      <th>PAY_AMT2</th>\n",
              "      <td>689.0</td>\n",
              "      <td>1000.0</td>\n",
              "      <td>1500.0</td>\n",
              "      <td>2019.0</td>\n",
              "      <td>36681.0</td>\n",
              "    </tr>\n",
              "    <tr>\n",
              "      <th>PAY_AMT3</th>\n",
              "      <td>0.0</td>\n",
              "      <td>1000.0</td>\n",
              "      <td>1000.0</td>\n",
              "      <td>1200.0</td>\n",
              "      <td>10000.0</td>\n",
              "    </tr>\n",
              "    <tr>\n",
              "      <th>PAY_AMT4</th>\n",
              "      <td>0.0</td>\n",
              "      <td>1000.0</td>\n",
              "      <td>1000.0</td>\n",
              "      <td>1100.0</td>\n",
              "      <td>9000.0</td>\n",
              "    </tr>\n",
              "    <tr>\n",
              "      <th>PAY_AMT5</th>\n",
              "      <td>0.0</td>\n",
              "      <td>0.0</td>\n",
              "      <td>1000.0</td>\n",
              "      <td>1069.0</td>\n",
              "      <td>689.0</td>\n",
              "    </tr>\n",
              "    <tr>\n",
              "      <th>PAY_AMT6</th>\n",
              "      <td>0.0</td>\n",
              "      <td>2000.0</td>\n",
              "      <td>5000.0</td>\n",
              "      <td>1000.0</td>\n",
              "      <td>679.0</td>\n",
              "    </tr>\n",
              "    <tr>\n",
              "      <th>default.payment.next.month</th>\n",
              "      <td>1.0</td>\n",
              "      <td>1.0</td>\n",
              "      <td>0.0</td>\n",
              "      <td>0.0</td>\n",
              "      <td>0.0</td>\n",
              "    </tr>\n",
              "  </tbody>\n",
              "</table>\n",
              "</div>\n",
              "      <button class=\"colab-df-convert\" onclick=\"convertToInteractive('df-a420514c-b18d-437b-b921-38af03d8d9ac')\"\n",
              "              title=\"Convert this dataframe to an interactive table.\"\n",
              "              style=\"display:none;\">\n",
              "        \n",
              "  <svg xmlns=\"http://www.w3.org/2000/svg\" height=\"24px\"viewBox=\"0 0 24 24\"\n",
              "       width=\"24px\">\n",
              "    <path d=\"M0 0h24v24H0V0z\" fill=\"none\"/>\n",
              "    <path d=\"M18.56 5.44l.94 2.06.94-2.06 2.06-.94-2.06-.94-.94-2.06-.94 2.06-2.06.94zm-11 1L8.5 8.5l.94-2.06 2.06-.94-2.06-.94L8.5 2.5l-.94 2.06-2.06.94zm10 10l.94 2.06.94-2.06 2.06-.94-2.06-.94-.94-2.06-.94 2.06-2.06.94z\"/><path d=\"M17.41 7.96l-1.37-1.37c-.4-.4-.92-.59-1.43-.59-.52 0-1.04.2-1.43.59L10.3 9.45l-7.72 7.72c-.78.78-.78 2.05 0 2.83L4 21.41c.39.39.9.59 1.41.59.51 0 1.02-.2 1.41-.59l7.78-7.78 2.81-2.81c.8-.78.8-2.07 0-2.86zM5.41 20L4 18.59l7.72-7.72 1.47 1.35L5.41 20z\"/>\n",
              "  </svg>\n",
              "      </button>\n",
              "      \n",
              "  <style>\n",
              "    .colab-df-container {\n",
              "      display:flex;\n",
              "      flex-wrap:wrap;\n",
              "      gap: 12px;\n",
              "    }\n",
              "\n",
              "    .colab-df-convert {\n",
              "      background-color: #E8F0FE;\n",
              "      border: none;\n",
              "      border-radius: 50%;\n",
              "      cursor: pointer;\n",
              "      display: none;\n",
              "      fill: #1967D2;\n",
              "      height: 32px;\n",
              "      padding: 0 0 0 0;\n",
              "      width: 32px;\n",
              "    }\n",
              "\n",
              "    .colab-df-convert:hover {\n",
              "      background-color: #E2EBFA;\n",
              "      box-shadow: 0px 1px 2px rgba(60, 64, 67, 0.3), 0px 1px 3px 1px rgba(60, 64, 67, 0.15);\n",
              "      fill: #174EA6;\n",
              "    }\n",
              "\n",
              "    [theme=dark] .colab-df-convert {\n",
              "      background-color: #3B4455;\n",
              "      fill: #D2E3FC;\n",
              "    }\n",
              "\n",
              "    [theme=dark] .colab-df-convert:hover {\n",
              "      background-color: #434B5C;\n",
              "      box-shadow: 0px 1px 3px 1px rgba(0, 0, 0, 0.15);\n",
              "      filter: drop-shadow(0px 1px 2px rgba(0, 0, 0, 0.3));\n",
              "      fill: #FFFFFF;\n",
              "    }\n",
              "  </style>\n",
              "\n",
              "      <script>\n",
              "        const buttonEl =\n",
              "          document.querySelector('#df-a420514c-b18d-437b-b921-38af03d8d9ac button.colab-df-convert');\n",
              "        buttonEl.style.display =\n",
              "          google.colab.kernel.accessAllowed ? 'block' : 'none';\n",
              "\n",
              "        async function convertToInteractive(key) {\n",
              "          const element = document.querySelector('#df-a420514c-b18d-437b-b921-38af03d8d9ac');\n",
              "          const dataTable =\n",
              "            await google.colab.kernel.invokeFunction('convertToInteractive',\n",
              "                                                     [key], {});\n",
              "          if (!dataTable) return;\n",
              "\n",
              "          const docLinkHtml = 'Like what you see? Visit the ' +\n",
              "            '<a target=\"_blank\" href=https://colab.research.google.com/notebooks/data_table.ipynb>data table notebook</a>'\n",
              "            + ' to learn more about interactive tables.';\n",
              "          element.innerHTML = '';\n",
              "          dataTable['output_type'] = 'display_data';\n",
              "          await google.colab.output.renderOutput(dataTable, element);\n",
              "          const docLink = document.createElement('div');\n",
              "          docLink.innerHTML = docLinkHtml;\n",
              "          element.appendChild(docLink);\n",
              "        }\n",
              "      </script>\n",
              "    </div>\n",
              "  </div>\n",
              "  "
            ]
          },
          "metadata": {},
          "execution_count": 3
        }
      ]
    },
    {
      "cell_type": "code",
      "source": [
        "df.info()"
      ],
      "metadata": {
        "colab": {
          "base_uri": "https://localhost:8080/"
        },
        "id": "F3XLK030uIxH",
        "outputId": "05e84ab1-d953-42ac-8229-99fd1d6d9808"
      },
      "execution_count": 4,
      "outputs": [
        {
          "output_type": "stream",
          "name": "stdout",
          "text": [
            "<class 'pandas.core.frame.DataFrame'>\n",
            "RangeIndex: 30000 entries, 0 to 29999\n",
            "Data columns (total 25 columns):\n",
            " #   Column                      Non-Null Count  Dtype  \n",
            "---  ------                      --------------  -----  \n",
            " 0   ID                          30000 non-null  int64  \n",
            " 1   LIMIT_BAL                   30000 non-null  float64\n",
            " 2   SEX                         30000 non-null  int64  \n",
            " 3   EDUCATION                   30000 non-null  int64  \n",
            " 4   MARRIAGE                    30000 non-null  int64  \n",
            " 5   AGE                         30000 non-null  int64  \n",
            " 6   PAY_0                       30000 non-null  int64  \n",
            " 7   PAY_2                       30000 non-null  int64  \n",
            " 8   PAY_3                       30000 non-null  int64  \n",
            " 9   PAY_4                       30000 non-null  int64  \n",
            " 10  PAY_5                       30000 non-null  int64  \n",
            " 11  PAY_6                       30000 non-null  int64  \n",
            " 12  BILL_AMT1                   30000 non-null  float64\n",
            " 13  BILL_AMT2                   30000 non-null  float64\n",
            " 14  BILL_AMT3                   30000 non-null  float64\n",
            " 15  BILL_AMT4                   30000 non-null  float64\n",
            " 16  BILL_AMT5                   30000 non-null  float64\n",
            " 17  BILL_AMT6                   30000 non-null  float64\n",
            " 18  PAY_AMT1                    30000 non-null  float64\n",
            " 19  PAY_AMT2                    30000 non-null  float64\n",
            " 20  PAY_AMT3                    30000 non-null  float64\n",
            " 21  PAY_AMT4                    30000 non-null  float64\n",
            " 22  PAY_AMT5                    30000 non-null  float64\n",
            " 23  PAY_AMT6                    30000 non-null  float64\n",
            " 24  default.payment.next.month  30000 non-null  int64  \n",
            "dtypes: float64(13), int64(12)\n",
            "memory usage: 5.7 MB\n"
          ]
        }
      ]
    },
    {
      "cell_type": "code",
      "source": [
        "df.isna().sum().sum()"
      ],
      "metadata": {
        "colab": {
          "base_uri": "https://localhost:8080/"
        },
        "id": "HIIe5hL2uP-3",
        "outputId": "d261f4f1-a642-4d74-9422-49d8d1c3d8b3"
      },
      "execution_count": 5,
      "outputs": [
        {
          "output_type": "execute_result",
          "data": {
            "text/plain": [
              "0"
            ]
          },
          "metadata": {},
          "execution_count": 5
        }
      ]
    },
    {
      "cell_type": "code",
      "source": [
        "df.describe().T\n"
      ],
      "metadata": {
        "colab": {
          "base_uri": "https://localhost:8080/",
          "height": 833
        },
        "id": "wGXH-z2pqSCf",
        "outputId": "203f5332-f3d6-4f7a-df12-5fd65db81460"
      },
      "execution_count": 6,
      "outputs": [
        {
          "output_type": "execute_result",
          "data": {
            "text/plain": [
              "                              count           mean            std       min  \\\n",
              "ID                          30000.0   15000.500000    8660.398374       1.0   \n",
              "LIMIT_BAL                   30000.0  167484.322667  129747.661567   10000.0   \n",
              "SEX                         30000.0       1.603733       0.489129       1.0   \n",
              "EDUCATION                   30000.0       1.853133       0.790349       0.0   \n",
              "MARRIAGE                    30000.0       1.551867       0.521970       0.0   \n",
              "AGE                         30000.0      35.485500       9.217904      21.0   \n",
              "PAY_0                       30000.0      -0.016700       1.123802      -2.0   \n",
              "PAY_2                       30000.0      -0.133767       1.197186      -2.0   \n",
              "PAY_3                       30000.0      -0.166200       1.196868      -2.0   \n",
              "PAY_4                       30000.0      -0.220667       1.169139      -2.0   \n",
              "PAY_5                       30000.0      -0.266200       1.133187      -2.0   \n",
              "PAY_6                       30000.0      -0.291100       1.149988      -2.0   \n",
              "BILL_AMT1                   30000.0   51223.330900   73635.860576 -165580.0   \n",
              "BILL_AMT2                   30000.0   49179.075167   71173.768783  -69777.0   \n",
              "BILL_AMT3                   30000.0   47013.154800   69349.387427 -157264.0   \n",
              "BILL_AMT4                   30000.0   43262.948967   64332.856134 -170000.0   \n",
              "BILL_AMT5                   30000.0   40311.400967   60797.155770  -81334.0   \n",
              "BILL_AMT6                   30000.0   38871.760400   59554.107537 -339603.0   \n",
              "PAY_AMT1                    30000.0    5663.580500   16563.280354       0.0   \n",
              "PAY_AMT2                    30000.0    5921.163500   23040.870402       0.0   \n",
              "PAY_AMT3                    30000.0    5225.681500   17606.961470       0.0   \n",
              "PAY_AMT4                    30000.0    4826.076867   15666.159744       0.0   \n",
              "PAY_AMT5                    30000.0    4799.387633   15278.305679       0.0   \n",
              "PAY_AMT6                    30000.0    5215.502567   17777.465775       0.0   \n",
              "default.payment.next.month  30000.0       0.221200       0.415062       0.0   \n",
              "\n",
              "                                 25%       50%        75%        max  \n",
              "ID                           7500.75   15000.5   22500.25    30000.0  \n",
              "LIMIT_BAL                   50000.00  140000.0  240000.00  1000000.0  \n",
              "SEX                             1.00       2.0       2.00        2.0  \n",
              "EDUCATION                       1.00       2.0       2.00        6.0  \n",
              "MARRIAGE                        1.00       2.0       2.00        3.0  \n",
              "AGE                            28.00      34.0      41.00       79.0  \n",
              "PAY_0                          -1.00       0.0       0.00        8.0  \n",
              "PAY_2                          -1.00       0.0       0.00        8.0  \n",
              "PAY_3                          -1.00       0.0       0.00        8.0  \n",
              "PAY_4                          -1.00       0.0       0.00        8.0  \n",
              "PAY_5                          -1.00       0.0       0.00        8.0  \n",
              "PAY_6                          -1.00       0.0       0.00        8.0  \n",
              "BILL_AMT1                    3558.75   22381.5   67091.00   964511.0  \n",
              "BILL_AMT2                    2984.75   21200.0   64006.25   983931.0  \n",
              "BILL_AMT3                    2666.25   20088.5   60164.75  1664089.0  \n",
              "BILL_AMT4                    2326.75   19052.0   54506.00   891586.0  \n",
              "BILL_AMT5                    1763.00   18104.5   50190.50   927171.0  \n",
              "BILL_AMT6                    1256.00   17071.0   49198.25   961664.0  \n",
              "PAY_AMT1                     1000.00    2100.0    5006.00   873552.0  \n",
              "PAY_AMT2                      833.00    2009.0    5000.00  1684259.0  \n",
              "PAY_AMT3                      390.00    1800.0    4505.00   896040.0  \n",
              "PAY_AMT4                      296.00    1500.0    4013.25   621000.0  \n",
              "PAY_AMT5                      252.50    1500.0    4031.50   426529.0  \n",
              "PAY_AMT6                      117.75    1500.0    4000.00   528666.0  \n",
              "default.payment.next.month      0.00       0.0       0.00        1.0  "
            ],
            "text/html": [
              "\n",
              "  <div id=\"df-5a8a3912-fe82-41ad-8b1c-87ce381fba6b\">\n",
              "    <div class=\"colab-df-container\">\n",
              "      <div>\n",
              "<style scoped>\n",
              "    .dataframe tbody tr th:only-of-type {\n",
              "        vertical-align: middle;\n",
              "    }\n",
              "\n",
              "    .dataframe tbody tr th {\n",
              "        vertical-align: top;\n",
              "    }\n",
              "\n",
              "    .dataframe thead th {\n",
              "        text-align: right;\n",
              "    }\n",
              "</style>\n",
              "<table border=\"1\" class=\"dataframe\">\n",
              "  <thead>\n",
              "    <tr style=\"text-align: right;\">\n",
              "      <th></th>\n",
              "      <th>count</th>\n",
              "      <th>mean</th>\n",
              "      <th>std</th>\n",
              "      <th>min</th>\n",
              "      <th>25%</th>\n",
              "      <th>50%</th>\n",
              "      <th>75%</th>\n",
              "      <th>max</th>\n",
              "    </tr>\n",
              "  </thead>\n",
              "  <tbody>\n",
              "    <tr>\n",
              "      <th>ID</th>\n",
              "      <td>30000.0</td>\n",
              "      <td>15000.500000</td>\n",
              "      <td>8660.398374</td>\n",
              "      <td>1.0</td>\n",
              "      <td>7500.75</td>\n",
              "      <td>15000.5</td>\n",
              "      <td>22500.25</td>\n",
              "      <td>30000.0</td>\n",
              "    </tr>\n",
              "    <tr>\n",
              "      <th>LIMIT_BAL</th>\n",
              "      <td>30000.0</td>\n",
              "      <td>167484.322667</td>\n",
              "      <td>129747.661567</td>\n",
              "      <td>10000.0</td>\n",
              "      <td>50000.00</td>\n",
              "      <td>140000.0</td>\n",
              "      <td>240000.00</td>\n",
              "      <td>1000000.0</td>\n",
              "    </tr>\n",
              "    <tr>\n",
              "      <th>SEX</th>\n",
              "      <td>30000.0</td>\n",
              "      <td>1.603733</td>\n",
              "      <td>0.489129</td>\n",
              "      <td>1.0</td>\n",
              "      <td>1.00</td>\n",
              "      <td>2.0</td>\n",
              "      <td>2.00</td>\n",
              "      <td>2.0</td>\n",
              "    </tr>\n",
              "    <tr>\n",
              "      <th>EDUCATION</th>\n",
              "      <td>30000.0</td>\n",
              "      <td>1.853133</td>\n",
              "      <td>0.790349</td>\n",
              "      <td>0.0</td>\n",
              "      <td>1.00</td>\n",
              "      <td>2.0</td>\n",
              "      <td>2.00</td>\n",
              "      <td>6.0</td>\n",
              "    </tr>\n",
              "    <tr>\n",
              "      <th>MARRIAGE</th>\n",
              "      <td>30000.0</td>\n",
              "      <td>1.551867</td>\n",
              "      <td>0.521970</td>\n",
              "      <td>0.0</td>\n",
              "      <td>1.00</td>\n",
              "      <td>2.0</td>\n",
              "      <td>2.00</td>\n",
              "      <td>3.0</td>\n",
              "    </tr>\n",
              "    <tr>\n",
              "      <th>AGE</th>\n",
              "      <td>30000.0</td>\n",
              "      <td>35.485500</td>\n",
              "      <td>9.217904</td>\n",
              "      <td>21.0</td>\n",
              "      <td>28.00</td>\n",
              "      <td>34.0</td>\n",
              "      <td>41.00</td>\n",
              "      <td>79.0</td>\n",
              "    </tr>\n",
              "    <tr>\n",
              "      <th>PAY_0</th>\n",
              "      <td>30000.0</td>\n",
              "      <td>-0.016700</td>\n",
              "      <td>1.123802</td>\n",
              "      <td>-2.0</td>\n",
              "      <td>-1.00</td>\n",
              "      <td>0.0</td>\n",
              "      <td>0.00</td>\n",
              "      <td>8.0</td>\n",
              "    </tr>\n",
              "    <tr>\n",
              "      <th>PAY_2</th>\n",
              "      <td>30000.0</td>\n",
              "      <td>-0.133767</td>\n",
              "      <td>1.197186</td>\n",
              "      <td>-2.0</td>\n",
              "      <td>-1.00</td>\n",
              "      <td>0.0</td>\n",
              "      <td>0.00</td>\n",
              "      <td>8.0</td>\n",
              "    </tr>\n",
              "    <tr>\n",
              "      <th>PAY_3</th>\n",
              "      <td>30000.0</td>\n",
              "      <td>-0.166200</td>\n",
              "      <td>1.196868</td>\n",
              "      <td>-2.0</td>\n",
              "      <td>-1.00</td>\n",
              "      <td>0.0</td>\n",
              "      <td>0.00</td>\n",
              "      <td>8.0</td>\n",
              "    </tr>\n",
              "    <tr>\n",
              "      <th>PAY_4</th>\n",
              "      <td>30000.0</td>\n",
              "      <td>-0.220667</td>\n",
              "      <td>1.169139</td>\n",
              "      <td>-2.0</td>\n",
              "      <td>-1.00</td>\n",
              "      <td>0.0</td>\n",
              "      <td>0.00</td>\n",
              "      <td>8.0</td>\n",
              "    </tr>\n",
              "    <tr>\n",
              "      <th>PAY_5</th>\n",
              "      <td>30000.0</td>\n",
              "      <td>-0.266200</td>\n",
              "      <td>1.133187</td>\n",
              "      <td>-2.0</td>\n",
              "      <td>-1.00</td>\n",
              "      <td>0.0</td>\n",
              "      <td>0.00</td>\n",
              "      <td>8.0</td>\n",
              "    </tr>\n",
              "    <tr>\n",
              "      <th>PAY_6</th>\n",
              "      <td>30000.0</td>\n",
              "      <td>-0.291100</td>\n",
              "      <td>1.149988</td>\n",
              "      <td>-2.0</td>\n",
              "      <td>-1.00</td>\n",
              "      <td>0.0</td>\n",
              "      <td>0.00</td>\n",
              "      <td>8.0</td>\n",
              "    </tr>\n",
              "    <tr>\n",
              "      <th>BILL_AMT1</th>\n",
              "      <td>30000.0</td>\n",
              "      <td>51223.330900</td>\n",
              "      <td>73635.860576</td>\n",
              "      <td>-165580.0</td>\n",
              "      <td>3558.75</td>\n",
              "      <td>22381.5</td>\n",
              "      <td>67091.00</td>\n",
              "      <td>964511.0</td>\n",
              "    </tr>\n",
              "    <tr>\n",
              "      <th>BILL_AMT2</th>\n",
              "      <td>30000.0</td>\n",
              "      <td>49179.075167</td>\n",
              "      <td>71173.768783</td>\n",
              "      <td>-69777.0</td>\n",
              "      <td>2984.75</td>\n",
              "      <td>21200.0</td>\n",
              "      <td>64006.25</td>\n",
              "      <td>983931.0</td>\n",
              "    </tr>\n",
              "    <tr>\n",
              "      <th>BILL_AMT3</th>\n",
              "      <td>30000.0</td>\n",
              "      <td>47013.154800</td>\n",
              "      <td>69349.387427</td>\n",
              "      <td>-157264.0</td>\n",
              "      <td>2666.25</td>\n",
              "      <td>20088.5</td>\n",
              "      <td>60164.75</td>\n",
              "      <td>1664089.0</td>\n",
              "    </tr>\n",
              "    <tr>\n",
              "      <th>BILL_AMT4</th>\n",
              "      <td>30000.0</td>\n",
              "      <td>43262.948967</td>\n",
              "      <td>64332.856134</td>\n",
              "      <td>-170000.0</td>\n",
              "      <td>2326.75</td>\n",
              "      <td>19052.0</td>\n",
              "      <td>54506.00</td>\n",
              "      <td>891586.0</td>\n",
              "    </tr>\n",
              "    <tr>\n",
              "      <th>BILL_AMT5</th>\n",
              "      <td>30000.0</td>\n",
              "      <td>40311.400967</td>\n",
              "      <td>60797.155770</td>\n",
              "      <td>-81334.0</td>\n",
              "      <td>1763.00</td>\n",
              "      <td>18104.5</td>\n",
              "      <td>50190.50</td>\n",
              "      <td>927171.0</td>\n",
              "    </tr>\n",
              "    <tr>\n",
              "      <th>BILL_AMT6</th>\n",
              "      <td>30000.0</td>\n",
              "      <td>38871.760400</td>\n",
              "      <td>59554.107537</td>\n",
              "      <td>-339603.0</td>\n",
              "      <td>1256.00</td>\n",
              "      <td>17071.0</td>\n",
              "      <td>49198.25</td>\n",
              "      <td>961664.0</td>\n",
              "    </tr>\n",
              "    <tr>\n",
              "      <th>PAY_AMT1</th>\n",
              "      <td>30000.0</td>\n",
              "      <td>5663.580500</td>\n",
              "      <td>16563.280354</td>\n",
              "      <td>0.0</td>\n",
              "      <td>1000.00</td>\n",
              "      <td>2100.0</td>\n",
              "      <td>5006.00</td>\n",
              "      <td>873552.0</td>\n",
              "    </tr>\n",
              "    <tr>\n",
              "      <th>PAY_AMT2</th>\n",
              "      <td>30000.0</td>\n",
              "      <td>5921.163500</td>\n",
              "      <td>23040.870402</td>\n",
              "      <td>0.0</td>\n",
              "      <td>833.00</td>\n",
              "      <td>2009.0</td>\n",
              "      <td>5000.00</td>\n",
              "      <td>1684259.0</td>\n",
              "    </tr>\n",
              "    <tr>\n",
              "      <th>PAY_AMT3</th>\n",
              "      <td>30000.0</td>\n",
              "      <td>5225.681500</td>\n",
              "      <td>17606.961470</td>\n",
              "      <td>0.0</td>\n",
              "      <td>390.00</td>\n",
              "      <td>1800.0</td>\n",
              "      <td>4505.00</td>\n",
              "      <td>896040.0</td>\n",
              "    </tr>\n",
              "    <tr>\n",
              "      <th>PAY_AMT4</th>\n",
              "      <td>30000.0</td>\n",
              "      <td>4826.076867</td>\n",
              "      <td>15666.159744</td>\n",
              "      <td>0.0</td>\n",
              "      <td>296.00</td>\n",
              "      <td>1500.0</td>\n",
              "      <td>4013.25</td>\n",
              "      <td>621000.0</td>\n",
              "    </tr>\n",
              "    <tr>\n",
              "      <th>PAY_AMT5</th>\n",
              "      <td>30000.0</td>\n",
              "      <td>4799.387633</td>\n",
              "      <td>15278.305679</td>\n",
              "      <td>0.0</td>\n",
              "      <td>252.50</td>\n",
              "      <td>1500.0</td>\n",
              "      <td>4031.50</td>\n",
              "      <td>426529.0</td>\n",
              "    </tr>\n",
              "    <tr>\n",
              "      <th>PAY_AMT6</th>\n",
              "      <td>30000.0</td>\n",
              "      <td>5215.502567</td>\n",
              "      <td>17777.465775</td>\n",
              "      <td>0.0</td>\n",
              "      <td>117.75</td>\n",
              "      <td>1500.0</td>\n",
              "      <td>4000.00</td>\n",
              "      <td>528666.0</td>\n",
              "    </tr>\n",
              "    <tr>\n",
              "      <th>default.payment.next.month</th>\n",
              "      <td>30000.0</td>\n",
              "      <td>0.221200</td>\n",
              "      <td>0.415062</td>\n",
              "      <td>0.0</td>\n",
              "      <td>0.00</td>\n",
              "      <td>0.0</td>\n",
              "      <td>0.00</td>\n",
              "      <td>1.0</td>\n",
              "    </tr>\n",
              "  </tbody>\n",
              "</table>\n",
              "</div>\n",
              "      <button class=\"colab-df-convert\" onclick=\"convertToInteractive('df-5a8a3912-fe82-41ad-8b1c-87ce381fba6b')\"\n",
              "              title=\"Convert this dataframe to an interactive table.\"\n",
              "              style=\"display:none;\">\n",
              "        \n",
              "  <svg xmlns=\"http://www.w3.org/2000/svg\" height=\"24px\"viewBox=\"0 0 24 24\"\n",
              "       width=\"24px\">\n",
              "    <path d=\"M0 0h24v24H0V0z\" fill=\"none\"/>\n",
              "    <path d=\"M18.56 5.44l.94 2.06.94-2.06 2.06-.94-2.06-.94-.94-2.06-.94 2.06-2.06.94zm-11 1L8.5 8.5l.94-2.06 2.06-.94-2.06-.94L8.5 2.5l-.94 2.06-2.06.94zm10 10l.94 2.06.94-2.06 2.06-.94-2.06-.94-.94-2.06-.94 2.06-2.06.94z\"/><path d=\"M17.41 7.96l-1.37-1.37c-.4-.4-.92-.59-1.43-.59-.52 0-1.04.2-1.43.59L10.3 9.45l-7.72 7.72c-.78.78-.78 2.05 0 2.83L4 21.41c.39.39.9.59 1.41.59.51 0 1.02-.2 1.41-.59l7.78-7.78 2.81-2.81c.8-.78.8-2.07 0-2.86zM5.41 20L4 18.59l7.72-7.72 1.47 1.35L5.41 20z\"/>\n",
              "  </svg>\n",
              "      </button>\n",
              "      \n",
              "  <style>\n",
              "    .colab-df-container {\n",
              "      display:flex;\n",
              "      flex-wrap:wrap;\n",
              "      gap: 12px;\n",
              "    }\n",
              "\n",
              "    .colab-df-convert {\n",
              "      background-color: #E8F0FE;\n",
              "      border: none;\n",
              "      border-radius: 50%;\n",
              "      cursor: pointer;\n",
              "      display: none;\n",
              "      fill: #1967D2;\n",
              "      height: 32px;\n",
              "      padding: 0 0 0 0;\n",
              "      width: 32px;\n",
              "    }\n",
              "\n",
              "    .colab-df-convert:hover {\n",
              "      background-color: #E2EBFA;\n",
              "      box-shadow: 0px 1px 2px rgba(60, 64, 67, 0.3), 0px 1px 3px 1px rgba(60, 64, 67, 0.15);\n",
              "      fill: #174EA6;\n",
              "    }\n",
              "\n",
              "    [theme=dark] .colab-df-convert {\n",
              "      background-color: #3B4455;\n",
              "      fill: #D2E3FC;\n",
              "    }\n",
              "\n",
              "    [theme=dark] .colab-df-convert:hover {\n",
              "      background-color: #434B5C;\n",
              "      box-shadow: 0px 1px 3px 1px rgba(0, 0, 0, 0.15);\n",
              "      filter: drop-shadow(0px 1px 2px rgba(0, 0, 0, 0.3));\n",
              "      fill: #FFFFFF;\n",
              "    }\n",
              "  </style>\n",
              "\n",
              "      <script>\n",
              "        const buttonEl =\n",
              "          document.querySelector('#df-5a8a3912-fe82-41ad-8b1c-87ce381fba6b button.colab-df-convert');\n",
              "        buttonEl.style.display =\n",
              "          google.colab.kernel.accessAllowed ? 'block' : 'none';\n",
              "\n",
              "        async function convertToInteractive(key) {\n",
              "          const element = document.querySelector('#df-5a8a3912-fe82-41ad-8b1c-87ce381fba6b');\n",
              "          const dataTable =\n",
              "            await google.colab.kernel.invokeFunction('convertToInteractive',\n",
              "                                                     [key], {});\n",
              "          if (!dataTable) return;\n",
              "\n",
              "          const docLinkHtml = 'Like what you see? Visit the ' +\n",
              "            '<a target=\"_blank\" href=https://colab.research.google.com/notebooks/data_table.ipynb>data table notebook</a>'\n",
              "            + ' to learn more about interactive tables.';\n",
              "          element.innerHTML = '';\n",
              "          dataTable['output_type'] = 'display_data';\n",
              "          await google.colab.output.renderOutput(dataTable, element);\n",
              "          const docLink = document.createElement('div');\n",
              "          docLink.innerHTML = docLinkHtml;\n",
              "          element.appendChild(docLink);\n",
              "        }\n",
              "      </script>\n",
              "    </div>\n",
              "  </div>\n",
              "  "
            ]
          },
          "metadata": {},
          "execution_count": 6
        }
      ]
    },
    {
      "cell_type": "code",
      "source": [
        "for i in list(df.columns):\n",
        "  print(\"Unique values of \",i,\"is\")\n",
        "  print(df[i].nunique())"
      ],
      "metadata": {
        "colab": {
          "base_uri": "https://localhost:8080/"
        },
        "id": "jdxoB3tj05CV",
        "outputId": "45dd2abd-07d2-41c9-bef2-39f789ac1aa0"
      },
      "execution_count": 7,
      "outputs": [
        {
          "output_type": "stream",
          "name": "stdout",
          "text": [
            "Unique values of  ID is\n",
            "30000\n",
            "Unique values of  LIMIT_BAL is\n",
            "81\n",
            "Unique values of  SEX is\n",
            "2\n",
            "Unique values of  EDUCATION is\n",
            "7\n",
            "Unique values of  MARRIAGE is\n",
            "4\n",
            "Unique values of  AGE is\n",
            "56\n",
            "Unique values of  PAY_0 is\n",
            "11\n",
            "Unique values of  PAY_2 is\n",
            "11\n",
            "Unique values of  PAY_3 is\n",
            "11\n",
            "Unique values of  PAY_4 is\n",
            "11\n",
            "Unique values of  PAY_5 is\n",
            "10\n",
            "Unique values of  PAY_6 is\n",
            "10\n",
            "Unique values of  BILL_AMT1 is\n",
            "22723\n",
            "Unique values of  BILL_AMT2 is\n",
            "22346\n",
            "Unique values of  BILL_AMT3 is\n",
            "22026\n",
            "Unique values of  BILL_AMT4 is\n",
            "21548\n",
            "Unique values of  BILL_AMT5 is\n",
            "21010\n",
            "Unique values of  BILL_AMT6 is\n",
            "20604\n",
            "Unique values of  PAY_AMT1 is\n",
            "7943\n",
            "Unique values of  PAY_AMT2 is\n",
            "7899\n",
            "Unique values of  PAY_AMT3 is\n",
            "7518\n",
            "Unique values of  PAY_AMT4 is\n",
            "6937\n",
            "Unique values of  PAY_AMT5 is\n",
            "6897\n",
            "Unique values of  PAY_AMT6 is\n",
            "6939\n",
            "Unique values of  default.payment.next.month is\n",
            "2\n"
          ]
        }
      ]
    },
    {
      "cell_type": "code",
      "source": [
        "for i in list(df.columns):\n",
        "  print(\"values counts of \",i,\"is\")\n",
        "  print(df[i].value_counts())"
      ],
      "metadata": {
        "colab": {
          "base_uri": "https://localhost:8080/"
        },
        "id": "UvLI-mKGxd4v",
        "outputId": "92fddcf8-9272-442d-8ac8-10d1ee872e09"
      },
      "execution_count": 8,
      "outputs": [
        {
          "output_type": "stream",
          "name": "stdout",
          "text": [
            "values counts of  ID is\n",
            "1        1\n",
            "19997    1\n",
            "20009    1\n",
            "20008    1\n",
            "20007    1\n",
            "        ..\n",
            "9996     1\n",
            "9995     1\n",
            "9994     1\n",
            "9993     1\n",
            "30000    1\n",
            "Name: ID, Length: 30000, dtype: int64\n",
            "values counts of  LIMIT_BAL is\n",
            "50000.0      3365\n",
            "20000.0      1976\n",
            "30000.0      1610\n",
            "80000.0      1567\n",
            "200000.0     1528\n",
            "             ... \n",
            "730000.0        2\n",
            "1000000.0       1\n",
            "327680.0        1\n",
            "760000.0        1\n",
            "690000.0        1\n",
            "Name: LIMIT_BAL, Length: 81, dtype: int64\n",
            "values counts of  SEX is\n",
            "2    18112\n",
            "1    11888\n",
            "Name: SEX, dtype: int64\n",
            "values counts of  EDUCATION is\n",
            "2    14030\n",
            "1    10585\n",
            "3     4917\n",
            "5      280\n",
            "4      123\n",
            "6       51\n",
            "0       14\n",
            "Name: EDUCATION, dtype: int64\n",
            "values counts of  MARRIAGE is\n",
            "2    15964\n",
            "1    13659\n",
            "3      323\n",
            "0       54\n",
            "Name: MARRIAGE, dtype: int64\n",
            "values counts of  AGE is\n",
            "29    1605\n",
            "27    1477\n",
            "28    1409\n",
            "30    1395\n",
            "26    1256\n",
            "31    1217\n",
            "25    1186\n",
            "34    1162\n",
            "32    1158\n",
            "33    1146\n",
            "24    1127\n",
            "35    1113\n",
            "36    1108\n",
            "37    1041\n",
            "39     954\n",
            "38     944\n",
            "23     931\n",
            "40     870\n",
            "41     824\n",
            "42     794\n",
            "44     700\n",
            "43     670\n",
            "45     617\n",
            "46     570\n",
            "22     560\n",
            "47     501\n",
            "48     466\n",
            "49     452\n",
            "50     411\n",
            "51     340\n",
            "53     325\n",
            "52     304\n",
            "54     247\n",
            "55     209\n",
            "56     178\n",
            "58     122\n",
            "57     122\n",
            "59      83\n",
            "60      67\n",
            "21      67\n",
            "61      56\n",
            "62      44\n",
            "63      31\n",
            "64      31\n",
            "66      25\n",
            "65      24\n",
            "67      16\n",
            "69      15\n",
            "70      10\n",
            "68       5\n",
            "73       4\n",
            "72       3\n",
            "75       3\n",
            "71       3\n",
            "79       1\n",
            "74       1\n",
            "Name: AGE, dtype: int64\n",
            "values counts of  PAY_0 is\n",
            " 0    14737\n",
            "-1     5686\n",
            " 1     3688\n",
            "-2     2759\n",
            " 2     2667\n",
            " 3      322\n",
            " 4       76\n",
            " 5       26\n",
            " 8       19\n",
            " 6       11\n",
            " 7        9\n",
            "Name: PAY_0, dtype: int64\n",
            "values counts of  PAY_2 is\n",
            " 0    15730\n",
            "-1     6050\n",
            " 2     3927\n",
            "-2     3782\n",
            " 3      326\n",
            " 4       99\n",
            " 1       28\n",
            " 5       25\n",
            " 7       20\n",
            " 6       12\n",
            " 8        1\n",
            "Name: PAY_2, dtype: int64\n",
            "values counts of  PAY_3 is\n",
            " 0    15764\n",
            "-1     5938\n",
            "-2     4085\n",
            " 2     3819\n",
            " 3      240\n",
            " 4       76\n",
            " 7       27\n",
            " 6       23\n",
            " 5       21\n",
            " 1        4\n",
            " 8        3\n",
            "Name: PAY_3, dtype: int64\n",
            "values counts of  PAY_4 is\n",
            " 0    16455\n",
            "-1     5687\n",
            "-2     4348\n",
            " 2     3159\n",
            " 3      180\n",
            " 4       69\n",
            " 7       58\n",
            " 5       35\n",
            " 6        5\n",
            " 1        2\n",
            " 8        2\n",
            "Name: PAY_4, dtype: int64\n",
            "values counts of  PAY_5 is\n",
            " 0    16947\n",
            "-1     5539\n",
            "-2     4546\n",
            " 2     2626\n",
            " 3      178\n",
            " 4       84\n",
            " 7       58\n",
            " 5       17\n",
            " 6        4\n",
            " 8        1\n",
            "Name: PAY_5, dtype: int64\n",
            "values counts of  PAY_6 is\n",
            " 0    16286\n",
            "-1     5740\n",
            "-2     4895\n",
            " 2     2766\n",
            " 3      184\n",
            " 4       49\n",
            " 7       46\n",
            " 6       19\n",
            " 5       13\n",
            " 8        2\n",
            "Name: PAY_6, dtype: int64\n",
            "values counts of  BILL_AMT1 is\n",
            "0.0         2008\n",
            "390.0        244\n",
            "780.0         76\n",
            "326.0         72\n",
            "316.0         63\n",
            "            ... \n",
            "11636.0        1\n",
            "146034.0       1\n",
            "20817.0        1\n",
            "1351.0         1\n",
            "47929.0        1\n",
            "Name: BILL_AMT1, Length: 22723, dtype: int64\n",
            "values counts of  BILL_AMT2 is\n",
            "0.0        2506\n",
            "390.0       231\n",
            "326.0        75\n",
            "780.0        75\n",
            "316.0        72\n",
            "           ... \n",
            "26357.0       1\n",
            "85195.0       1\n",
            "6889.0        1\n",
            "11004.0       1\n",
            "48905.0       1\n",
            "Name: BILL_AMT2, Length: 22346, dtype: int64\n",
            "values counts of  BILL_AMT3 is\n",
            "0.0         2870\n",
            "390.0        275\n",
            "780.0         74\n",
            "326.0         63\n",
            "316.0         62\n",
            "            ... \n",
            "19580.0        1\n",
            "45129.0        1\n",
            "227807.0       1\n",
            "39330.0        1\n",
            "49764.0        1\n",
            "Name: BILL_AMT3, Length: 22026, dtype: int64\n",
            "values counts of  BILL_AMT4 is\n",
            "0.0         3195\n",
            "390.0        246\n",
            "780.0        101\n",
            "316.0         68\n",
            "326.0         62\n",
            "            ... \n",
            "97189.0        1\n",
            "118839.0       1\n",
            "23567.0        1\n",
            "18377.0        1\n",
            "36535.0        1\n",
            "Name: BILL_AMT4, Length: 21548, dtype: int64\n",
            "values counts of  BILL_AMT5 is\n",
            "0.0        3506\n",
            "390.0       235\n",
            "780.0        94\n",
            "316.0        79\n",
            "326.0        62\n",
            "           ... \n",
            "19341.0       1\n",
            "66726.0       1\n",
            "80682.0       1\n",
            "28508.0       1\n",
            "32428.0       1\n",
            "Name: BILL_AMT5, Length: 21010, dtype: int64\n",
            "values counts of  BILL_AMT6 is\n",
            "0.0         4020\n",
            "390.0        207\n",
            "780.0         86\n",
            "150.0         78\n",
            "316.0         77\n",
            "            ... \n",
            "26852.0        1\n",
            "108660.0       1\n",
            "480.0          1\n",
            "15298.0        1\n",
            "15313.0        1\n",
            "Name: BILL_AMT6, Length: 20604, dtype: int64\n",
            "values counts of  PAY_AMT1 is\n",
            "0.0        5249\n",
            "2000.0     1363\n",
            "3000.0      891\n",
            "5000.0      698\n",
            "1500.0      507\n",
            "           ... \n",
            "3391.0        1\n",
            "7785.0        1\n",
            "66022.0       1\n",
            "10121.0       1\n",
            "85900.0       1\n",
            "Name: PAY_AMT1, Length: 7943, dtype: int64\n",
            "values counts of  PAY_AMT2 is\n",
            "0.0        5396\n",
            "2000.0     1290\n",
            "3000.0      857\n",
            "5000.0      717\n",
            "1000.0      594\n",
            "           ... \n",
            "7866.0        1\n",
            "6206.0        1\n",
            "10529.0       1\n",
            "21300.0       1\n",
            "3526.0        1\n",
            "Name: PAY_AMT2, Length: 7899, dtype: int64\n",
            "values counts of  PAY_AMT3 is\n",
            "0.0        5968\n",
            "2000.0     1285\n",
            "1000.0     1103\n",
            "3000.0      870\n",
            "5000.0      721\n",
            "           ... \n",
            "5102.0        1\n",
            "5368.0        1\n",
            "28138.0       1\n",
            "549.0         1\n",
            "25128.0       1\n",
            "Name: PAY_AMT3, Length: 7518, dtype: int64\n",
            "values counts of  PAY_AMT4 is\n",
            "0.0        6408\n",
            "1000.0     1394\n",
            "2000.0     1214\n",
            "3000.0      887\n",
            "5000.0      810\n",
            "           ... \n",
            "18916.0       1\n",
            "3468.0        1\n",
            "11476.0       1\n",
            "4363.0        1\n",
            "8049.0        1\n",
            "Name: PAY_AMT4, Length: 6937, dtype: int64\n",
            "values counts of  PAY_AMT5 is\n",
            "0.0        6703\n",
            "1000.0     1340\n",
            "2000.0     1323\n",
            "3000.0      947\n",
            "5000.0      814\n",
            "           ... \n",
            "9111.0        1\n",
            "16496.0       1\n",
            "4819.0        1\n",
            "10078.0       1\n",
            "52964.0       1\n",
            "Name: PAY_AMT5, Length: 6897, dtype: int64\n",
            "values counts of  PAY_AMT6 is\n",
            "0.0        7173\n",
            "1000.0     1299\n",
            "2000.0     1295\n",
            "3000.0      914\n",
            "5000.0      808\n",
            "           ... \n",
            "7329.0        1\n",
            "6862.0        1\n",
            "6525.0        1\n",
            "11894.0       1\n",
            "16080.0       1\n",
            "Name: PAY_AMT6, Length: 6939, dtype: int64\n",
            "values counts of  default.payment.next.month is\n",
            "0    23364\n",
            "1     6636\n",
            "Name: default.payment.next.month, dtype: int64\n"
          ]
        }
      ]
    },
    {
      "cell_type": "code",
      "source": [
        "#renaming the column to ensure ease of access\n",
        "df.rename(columns = {'default.payment.next.month':'default'}, inplace = True)"
      ],
      "metadata": {
        "id": "9D65lLVobLOh"
      },
      "execution_count": 9,
      "outputs": []
    },
    {
      "cell_type": "code",
      "source": [
        "df.columns"
      ],
      "metadata": {
        "colab": {
          "base_uri": "https://localhost:8080/"
        },
        "id": "DcuZJlLXbXz3",
        "outputId": "d4020bf5-3718-486c-9186-906c64a0adf6"
      },
      "execution_count": 10,
      "outputs": [
        {
          "output_type": "execute_result",
          "data": {
            "text/plain": [
              "Index(['ID', 'LIMIT_BAL', 'SEX', 'EDUCATION', 'MARRIAGE', 'AGE', 'PAY_0',\n",
              "       'PAY_2', 'PAY_3', 'PAY_4', 'PAY_5', 'PAY_6', 'BILL_AMT1', 'BILL_AMT2',\n",
              "       'BILL_AMT3', 'BILL_AMT4', 'BILL_AMT5', 'BILL_AMT6', 'PAY_AMT1',\n",
              "       'PAY_AMT2', 'PAY_AMT3', 'PAY_AMT4', 'PAY_AMT5', 'PAY_AMT6', 'default'],\n",
              "      dtype='object')"
            ]
          },
          "metadata": {},
          "execution_count": 10
        }
      ]
    },
    {
      "cell_type": "markdown",
      "source": [
        "# Exploratory Data Analysis"
      ],
      "metadata": {
        "id": "GZoISiU4ahvZ"
      }
    },
    {
      "cell_type": "markdown",
      "source": [
        "First, we will look at the distribution of the target variable (Default). Then, we'll move on to the features, looking at their distributions, their relationships to the target, and, in some cases, the relationships among some of them.\n"
      ],
      "metadata": {
        "id": "rW2Q-xI_bweC"
      }
    },
    {
      "cell_type": "code",
      "source": [
        "#https://seaborn.pydata.org/generated/seaborn.countplot.html\n",
        "sns.set_theme(style=\"darkgrid\")\n",
        "plt.figure(figsize=(6,4))\n",
        "\n",
        "ax = sns.countplot(x=\"default\", data=df, palette=\"rocket\")\n",
        "\n",
        "plt.xlabel(\"Default\", fontsize= 12)\n",
        "plt.ylabel(\"Number of Clients\", fontsize= 12)\n",
        "\n",
        "plt.xticks([0,1], ['No', 'Yes'], fontsize = 11)\n",
        "\n",
        "for p in ax.patches:\n",
        "    ax.annotate((p.get_height()), (p.get_x()+0.32, p.get_height()+1000))\n",
        "plt.savefig('imbalanced_data.png',dpi=300)    \n",
        "plt.show()"
      ],
      "metadata": {
        "colab": {
          "base_uri": "https://localhost:8080/",
          "height": 297
        },
        "id": "j-GHtdvAa6oA",
        "outputId": "e7af5ec8-288f-40e1-fe7e-cd96126d0043"
      },
      "execution_count": 112,
      "outputs": [
        {
          "output_type": "display_data",
          "data": {
            "text/plain": [
              "<Figure size 432x288 with 1 Axes>"
            ],
            "image/png": "[encoded data removed]"
          },
          "metadata": {}
        }
      ]
    },
    {
      "cell_type": "code",
      "source": [
        "plt.figure(figsize=(7,5))\n",
        "\n",
        "df['default'].value_counts().plot(kind='pie',autopct='%1.1f%%')\n",
        "plt.legend([\"No default\",\"default\"])\n",
        "plt.savefig('Imbalanced_data_2',dpi=300)\n",
        "plt.show()"
      ],
      "metadata": {
        "colab": {
          "base_uri": "https://localhost:8080/",
          "height": 303
        },
        "id": "9P5TTzxQefDa",
        "outputId": "d17bded8-a38c-45bc-9790-33ac6d97b57b"
      },
      "execution_count": 113,
      "outputs": [
        {
          "output_type": "display_data",
          "data": {
            "text/plain": [
              "<Figure size 504x360 with 1 Axes>"
            ],
            "image/png": "[encoded data removed]"
          },
          "metadata": {}
        }
      ]
    },
    {
      "cell_type": "markdown",
      "source": [
        "from above two figures we can see that the data is highly imbalanced."
      ],
      "metadata": {
        "id": "r0BxRvSVfD-C"
      }
    },
    {
      "cell_type": "markdown",
      "source": [
        "Let us check if there is any relation between features and target column"
      ],
      "metadata": {
        "id": "t2R24sisfty3"
      }
    },
    {
      "cell_type": "code",
      "source": [
        "#LIMIT BAL and default\n",
        "plt.figure(figsize=(12,4))\n",
        "\n",
        "sns.kdeplot(df.loc[(df['default'] == 0), 'LIMIT_BAL'], label = 'No Default', shade = True)\n",
        "sns.kdeplot(df.loc[(df['default'] == 1), 'LIMIT_BAL'], label = 'Default', shade = True)\n",
        "plt.xticks([0,25000,50000,75000,100000,150000,200000,300000,400000,500000,600000],rotation = 90) \n",
        "plt.ylabel('')\n",
        "plt.legend()\n",
        "plt.savefig('limit_bal',dpi=300)\n",
        "plt.show()"
      ],
      "metadata": {
        "colab": {
          "base_uri": "https://localhost:8080/",
          "height": 331
        },
        "id": "VBQ5WDQ5fJE6",
        "outputId": "42543d0d-4094-4a17-f976-17791ca403bc"
      },
      "execution_count": 114,
      "outputs": [
        {
          "output_type": "display_data",
          "data": {
            "text/plain": [
              "<Figure size 864x288 with 1 Axes>"
            ],
            "image/png": "[encoded data removed]"
          },
          "metadata": {}
        }
      ]
    },
    {
      "cell_type": "markdown",
      "source": [
        "from above plot people with Limit_bal less than 150000 are showing a high chance of default .So this feature is important for predicting the defaulters."
      ],
      "metadata": {
        "id": "IxU2zvLfkjuT"
      }
    },
    {
      "cell_type": "code",
      "source": [
        "df.columns"
      ],
      "metadata": {
        "colab": {
          "base_uri": "https://localhost:8080/"
        },
        "id": "NoE3Xo7_kzaR",
        "outputId": "ef3ff74f-2be5-4075-d1da-1d04858da6bb"
      },
      "execution_count": 14,
      "outputs": [
        {
          "output_type": "execute_result",
          "data": {
            "text/plain": [
              "Index(['ID', 'LIMIT_BAL', 'SEX', 'EDUCATION', 'MARRIAGE', 'AGE', 'PAY_0',\n",
              "       'PAY_2', 'PAY_3', 'PAY_4', 'PAY_5', 'PAY_6', 'BILL_AMT1', 'BILL_AMT2',\n",
              "       'BILL_AMT3', 'BILL_AMT4', 'BILL_AMT5', 'BILL_AMT6', 'PAY_AMT1',\n",
              "       'PAY_AMT2', 'PAY_AMT3', 'PAY_AMT4', 'PAY_AMT5', 'PAY_AMT6', 'default'],\n",
              "      dtype='object')"
            ]
          },
          "metadata": {},
          "execution_count": 14
        }
      ]
    },
    {
      "cell_type": "code",
      "source": [
        "#sex\n",
        "plt.figure(figsize=(12,6))\n",
        "\n",
        "ax = sns.countplot(data = df, x = 'SEX', hue=\"default\")\n",
        "\n",
        "plt.xlabel(\"Sex\", fontsize= 12)\n",
        "plt.ylabel(\"number of Clients\", fontsize= 12)\n",
        "\n",
        "plt.xticks([0,1],['Male', 'Female'], fontsize = 11)\n",
        "\n",
        "for p in ax.patches:\n",
        "    ax.annotate((p.get_height()), (p.get_x()+0.16, p.get_height()+100))\n",
        "plt.savefig('Gender',dpi=300)\n",
        "plt.show()"
      ],
      "metadata": {
        "colab": {
          "base_uri": "https://localhost:8080/",
          "height": 397
        },
        "id": "mny8O1wilJ-u",
        "outputId": "0bf63fa5-1021-4a4a-cfe1-cd82ed12e928"
      },
      "execution_count": 115,
      "outputs": [
        {
          "output_type": "display_data",
          "data": {
            "text/plain": [
              "<Figure size 864x432 with 1 Axes>"
            ],
            "image/png": "[encoded data removed]"
          },
          "metadata": {}
        }
      ]
    },
    {
      "cell_type": "markdown",
      "source": [
        "defaulters are present in both male and female , let us take another plot to check % defulters in each sex.\n"
      ],
      "metadata": {
        "id": "IFrmqyG3lkIO"
      }
    },
    {
      "cell_type": "markdown",
      "source": [
        ""
      ],
      "metadata": {
        "id": "HXWS0JeA5lOc"
      }
    },
    {
      "cell_type": "code",
      "source": [
        "plt.figure(figsize=(7,5))\n",
        "df[df['default']==1][\"SEX\"].value_counts().plot(kind='pie',autopct='%1.1f%%')\n",
        "plt.legend([\"Female\",\"Male\"])\n",
        "plt.show()"
      ],
      "metadata": {
        "colab": {
          "base_uri": "https://localhost:8080/",
          "height": 303
        },
        "id": "u2e8jlRpl1Ep",
        "outputId": "6ca9bae3-73f1-4d99-a1c3-9cff5269033d"
      },
      "execution_count": 16,
      "outputs": [
        {
          "output_type": "display_data",
          "data": {
            "text/plain": [
              "<Figure size 504x360 with 1 Axes>"
            ],
            "image/png": "[encoded data removed]"
          },
          "metadata": {}
        }
      ]
    },
    {
      "cell_type": "markdown",
      "source": [
        "It looks like gender is having less influence on credit defaults. As in our origincal data , Females are more in number than men"
      ],
      "metadata": {
        "id": "O42qBESm6bqx"
      }
    },
    {
      "cell_type": "code",
      "source": [
        "df.columns\n"
      ],
      "metadata": {
        "colab": {
          "base_uri": "https://localhost:8080/"
        },
        "id": "sj2Yz_Pl6kmQ",
        "outputId": "38cb55b0-afd9-438c-d8f0-dc0331219854"
      },
      "execution_count": 17,
      "outputs": [
        {
          "output_type": "execute_result",
          "data": {
            "text/plain": [
              "Index(['ID', 'LIMIT_BAL', 'SEX', 'EDUCATION', 'MARRIAGE', 'AGE', 'PAY_0',\n",
              "       'PAY_2', 'PAY_3', 'PAY_4', 'PAY_5', 'PAY_6', 'BILL_AMT1', 'BILL_AMT2',\n",
              "       'BILL_AMT3', 'BILL_AMT4', 'BILL_AMT5', 'BILL_AMT6', 'PAY_AMT1',\n",
              "       'PAY_AMT2', 'PAY_AMT3', 'PAY_AMT4', 'PAY_AMT5', 'PAY_AMT6', 'default'],\n",
              "      dtype='object')"
            ]
          },
          "metadata": {},
          "execution_count": 17
        }
      ]
    },
    {
      "cell_type": "code",
      "source": [
        "#Education EDUCATION: (1=graduate school, 2=university, 3=high school, 4=others,5=unknown, 6=unknown)\n",
        "df['default'].groupby(df['EDUCATION']).value_counts(normalize = True)"
      ],
      "metadata": {
        "colab": {
          "base_uri": "https://localhost:8080/"
        },
        "id": "Me7B5u_S61Nl",
        "outputId": "7cd1c14e-f6c6-43cc-ba54-5c28474e6d4a"
      },
      "execution_count": 18,
      "outputs": [
        {
          "output_type": "execute_result",
          "data": {
            "text/plain": [
              "EDUCATION  default\n",
              "0          0          1.000000\n",
              "1          0          0.807652\n",
              "           1          0.192348\n",
              "2          0          0.762651\n",
              "           1          0.237349\n",
              "3          0          0.748424\n",
              "           1          0.251576\n",
              "4          0          0.943089\n",
              "           1          0.056911\n",
              "5          0          0.935714\n",
              "           1          0.064286\n",
              "6          0          0.843137\n",
              "           1          0.156863\n",
              "Name: default, dtype: float64"
            ]
          },
          "metadata": {},
          "execution_count": 18
        }
      ]
    },
    {
      "cell_type": "markdown",
      "source": [
        "We can see values of defaulters in education value : 0,5 are very low. Hence I am grouping them with 5"
      ],
      "metadata": {
        "id": "u1wHD2867wG_"
      }
    },
    {
      "cell_type": "code",
      "source": [
        "df.loc[:,'EDUCATION'] = df.loc[:,'EDUCATION'].replace(0,5)"
      ],
      "metadata": {
        "id": "8gXqsOzr8o83"
      },
      "execution_count": 19,
      "outputs": []
    },
    {
      "cell_type": "code",
      "source": [
        "df['default'].groupby(df['EDUCATION']).value_counts(normalize = True)"
      ],
      "metadata": {
        "colab": {
          "base_uri": "https://localhost:8080/"
        },
        "id": "ndGuhHgF8t_s",
        "outputId": "cb686ada-3dfa-433e-f21e-6846d6d91592"
      },
      "execution_count": 20,
      "outputs": [
        {
          "output_type": "execute_result",
          "data": {
            "text/plain": [
              "EDUCATION  default\n",
              "1          0          0.807652\n",
              "           1          0.192348\n",
              "2          0          0.762651\n",
              "           1          0.237349\n",
              "3          0          0.748424\n",
              "           1          0.251576\n",
              "4          0          0.943089\n",
              "           1          0.056911\n",
              "5          0          0.938776\n",
              "           1          0.061224\n",
              "6          0          0.843137\n",
              "           1          0.156863\n",
              "Name: default, dtype: float64"
            ]
          },
          "metadata": {},
          "execution_count": 20
        }
      ]
    },
    {
      "cell_type": "markdown",
      "source": [
        "As both 5 and 6 are pointing to unknown education details , We can club them together.\n"
      ],
      "metadata": {
        "id": "RX7vDjZ09ADl"
      }
    },
    {
      "cell_type": "code",
      "source": [
        "df.loc[:,'EDUCATION'] = df.loc[:,'EDUCATION'].replace(6,5)"
      ],
      "metadata": {
        "id": "vlby9hys9IOe"
      },
      "execution_count": 21,
      "outputs": []
    },
    {
      "cell_type": "code",
      "source": [
        "df['default'].groupby(df['EDUCATION']).value_counts(normalize = True)"
      ],
      "metadata": {
        "colab": {
          "base_uri": "https://localhost:8080/"
        },
        "id": "mWOkxhOJ9K3Q",
        "outputId": "c0fcdad3-1905-4ce6-9fd6-4dd5aef2f189"
      },
      "execution_count": 22,
      "outputs": [
        {
          "output_type": "execute_result",
          "data": {
            "text/plain": [
              "EDUCATION  default\n",
              "1          0          0.807652\n",
              "           1          0.192348\n",
              "2          0          0.762651\n",
              "           1          0.237349\n",
              "3          0          0.748424\n",
              "           1          0.251576\n",
              "4          0          0.943089\n",
              "           1          0.056911\n",
              "5          0          0.924638\n",
              "           1          0.075362\n",
              "Name: default, dtype: float64"
            ]
          },
          "metadata": {},
          "execution_count": 22
        }
      ]
    },
    {
      "cell_type": "code",
      "source": [
        "plt.figure(figsize=(14,6))\n",
        "\n",
        "ax = sns.countplot(data = df, x = 'EDUCATION', hue=\"default\")\n",
        "\n",
        "plt.xlabel(\"Education\", fontsize= 12)\n",
        "plt.ylabel(\"number of Clients\", fontsize= 12)\n",
        "\n",
        "plt.xticks([1,2,3,4,5],['Grad School','University','High School','Others','Unknown'], fontsize = 11)\n",
        "\n",
        "for p in ax.patches:\n",
        "    ax.annotate((p.get_height()), (p.get_x()+0.11, p.get_height()+100))\n",
        "plt.savefig('Education',dpi=300)\n",
        "plt.show()"
      ],
      "metadata": {
        "colab": {
          "base_uri": "https://localhost:8080/",
          "height": 397
        },
        "id": "8Rp7RQEs9SkN",
        "outputId": "1d6b64a6-37e2-4f16-ceb8-daf4446b352a"
      },
      "execution_count": 117,
      "outputs": [
        {
          "output_type": "display_data",
          "data": {
            "text/plain": [
              "<Figure size 1008x432 with 1 Axes>"
            ],
            "image/png": "[encoded data removed]"
          },
          "metadata": {}
        }
      ]
    },
    {
      "cell_type": "code",
      "source": [
        "df[df['default']==1][\"EDUCATION\"].value_counts()"
      ],
      "metadata": {
        "colab": {
          "base_uri": "https://localhost:8080/"
        },
        "id": "mWBqFImu-kl4",
        "outputId": "bba84cd8-06f1-46aa-a676-615b5ce40f13"
      },
      "execution_count": 24,
      "outputs": [
        {
          "output_type": "execute_result",
          "data": {
            "text/plain": [
              "2    3330\n",
              "1    2036\n",
              "3    1237\n",
              "5      26\n",
              "4       7\n",
              "Name: EDUCATION, dtype: int64"
            ]
          },
          "metadata": {},
          "execution_count": 24
        }
      ]
    },
    {
      "cell_type": "code",
      "source": [
        "df[df['default']==1][\"EDUCATION\"].value_counts(normalize = True)"
      ],
      "metadata": {
        "colab": {
          "base_uri": "https://localhost:8080/"
        },
        "id": "iS6DnnbF-s7s",
        "outputId": "dec9a575-6d8f-4ac8-ecf9-acb99d816cac"
      },
      "execution_count": 25,
      "outputs": [
        {
          "output_type": "execute_result",
          "data": {
            "text/plain": [
              "2    0.501808\n",
              "1    0.306811\n",
              "3    0.186407\n",
              "5    0.003918\n",
              "4    0.001055\n",
              "Name: EDUCATION, dtype: float64"
            ]
          },
          "metadata": {},
          "execution_count": 25
        }
      ]
    },
    {
      "cell_type": "markdown",
      "source": [
        "Education EDUCATION: (1=graduate school, 2=university, 3=high school, 4=others,5=unknown, 6=unknown)\n",
        "\n",
        "From above plots and code ,we can see clients from  University,Gratuate school, High school  are high in number of defaulters .\n",
        "it implies that the feature Education is important for our analysis."
      ],
      "metadata": {
        "id": "ZDrrO4Ou-2OT"
      }
    },
    {
      "cell_type": "code",
      "source": [
        "df.columns"
      ],
      "metadata": {
        "colab": {
          "base_uri": "https://localhost:8080/"
        },
        "id": "7TM-hooE_NCt",
        "outputId": "314a567e-013a-49fd-8de0-cd15eba49e14"
      },
      "execution_count": 26,
      "outputs": [
        {
          "output_type": "execute_result",
          "data": {
            "text/plain": [
              "Index(['ID', 'LIMIT_BAL', 'SEX', 'EDUCATION', 'MARRIAGE', 'AGE', 'PAY_0',\n",
              "       'PAY_2', 'PAY_3', 'PAY_4', 'PAY_5', 'PAY_6', 'BILL_AMT1', 'BILL_AMT2',\n",
              "       'BILL_AMT3', 'BILL_AMT4', 'BILL_AMT5', 'BILL_AMT6', 'PAY_AMT1',\n",
              "       'PAY_AMT2', 'PAY_AMT3', 'PAY_AMT4', 'PAY_AMT5', 'PAY_AMT6', 'default'],\n",
              "      dtype='object')"
            ]
          },
          "metadata": {},
          "execution_count": 26
        }
      ]
    },
    {
      "cell_type": "code",
      "source": [
        "#MARRIAGE: Marital status (1=married, 2=single, 3=others)\n",
        "df[\"MARRIAGE\"].value_counts()"
      ],
      "metadata": {
        "colab": {
          "base_uri": "https://localhost:8080/"
        },
        "id": "Tcg2Gk5-_QU1",
        "outputId": "342fe394-6c33-4104-e9fa-47e1f46ce10f"
      },
      "execution_count": 27,
      "outputs": [
        {
          "output_type": "execute_result",
          "data": {
            "text/plain": [
              "2    15964\n",
              "1    13659\n",
              "3      323\n",
              "0       54\n",
              "Name: MARRIAGE, dtype: int64"
            ]
          },
          "metadata": {},
          "execution_count": 27
        }
      ]
    },
    {
      "cell_type": "markdown",
      "source": [
        "taking Marriage=0 as Unknown"
      ],
      "metadata": {
        "id": "SBB36qkY_wsl"
      }
    },
    {
      "cell_type": "code",
      "source": [
        "df['default'].groupby(df['MARRIAGE']).value_counts(normalize = True)"
      ],
      "metadata": {
        "colab": {
          "base_uri": "https://localhost:8080/"
        },
        "id": "D8dBOdOu_oPV",
        "outputId": "4af5796c-9acc-4661-a9aa-ddaf1af88476"
      },
      "execution_count": 28,
      "outputs": [
        {
          "output_type": "execute_result",
          "data": {
            "text/plain": [
              "MARRIAGE  default\n",
              "0         0          0.907407\n",
              "          1          0.092593\n",
              "1         0          0.765283\n",
              "          1          0.234717\n",
              "2         0          0.790717\n",
              "          1          0.209283\n",
              "3         0          0.739938\n",
              "          1          0.260062\n",
              "Name: default, dtype: float64"
            ]
          },
          "metadata": {},
          "execution_count": 28
        }
      ]
    },
    {
      "cell_type": "code",
      "source": [
        "df[df['default']==1][\"MARRIAGE\"].value_counts(normalize = True)"
      ],
      "metadata": {
        "colab": {
          "base_uri": "https://localhost:8080/"
        },
        "id": "aoMSoGcj_tyt",
        "outputId": "3ad5c288-dcfe-4154-dea6-d2ba5faa3bda"
      },
      "execution_count": 29,
      "outputs": [
        {
          "output_type": "execute_result",
          "data": {
            "text/plain": [
              "2    0.503466\n",
              "1    0.483122\n",
              "3    0.012658\n",
              "0    0.000753\n",
              "Name: MARRIAGE, dtype: float64"
            ]
          },
          "metadata": {},
          "execution_count": 29
        }
      ]
    },
    {
      "cell_type": "code",
      "source": [
        "plt.figure(figsize=(14,6))\n",
        "\n",
        "ax = sns.barplot(x = \"MARRIAGE\", y = \"default\", data = df,ci=None)\n",
        "\n",
        "plt.ylabel(\"number of Default\", fontsize= 12)\n",
        "\n",
        "plt.xticks([0,1,2,3],['Unknown', 'Married', 'Single', 'Others'],fontsize=11)\n",
        "\n",
        "for p in ax.patches:\n",
        "    ax.annotate(\"%.2f\" %(p.get_height()), (p.get_x()+0.30, p.get_height()+0.005),fontsize=13)\n",
        "plt.savefig('marriage',dpi=300)\n",
        "plt.show()"
      ],
      "metadata": {
        "colab": {
          "base_uri": "https://localhost:8080/",
          "height": 398
        },
        "id": "H4_EqopzAHR1",
        "outputId": "f1ea5985-f49d-4c3d-9e2e-d68e6dba954e"
      },
      "execution_count": 118,
      "outputs": [
        {
          "output_type": "display_data",
          "data": {
            "text/plain": [
              "<Figure size 1008x432 with 1 Axes>"
            ],
            "image/png": "[encoded data removed]"
          },
          "metadata": {}
        }
      ]
    },
    {
      "cell_type": "markdown",
      "source": [
        "most defaulteed people are in Others , Married and single categories . "
      ],
      "metadata": {
        "id": "Z4RDV7sYBhwy"
      }
    },
    {
      "cell_type": "code",
      "source": [
        "df.columns"
      ],
      "metadata": {
        "colab": {
          "base_uri": "https://localhost:8080/"
        },
        "id": "1TwQcuq_BX_d",
        "outputId": "00e29ad7-0826-4036-9c07-3ae1e9d22cb1"
      },
      "execution_count": 31,
      "outputs": [
        {
          "output_type": "execute_result",
          "data": {
            "text/plain": [
              "Index(['ID', 'LIMIT_BAL', 'SEX', 'EDUCATION', 'MARRIAGE', 'AGE', 'PAY_0',\n",
              "       'PAY_2', 'PAY_3', 'PAY_4', 'PAY_5', 'PAY_6', 'BILL_AMT1', 'BILL_AMT2',\n",
              "       'BILL_AMT3', 'BILL_AMT4', 'BILL_AMT5', 'BILL_AMT6', 'PAY_AMT1',\n",
              "       'PAY_AMT2', 'PAY_AMT3', 'PAY_AMT4', 'PAY_AMT5', 'PAY_AMT6', 'default'],\n",
              "      dtype='object')"
            ]
          },
          "metadata": {},
          "execution_count": 31
        }
      ]
    },
    {
      "cell_type": "code",
      "source": [
        "#AGE\n",
        "plt.figure(figsize=(12,4))\n",
        "\n",
        "sns.kdeplot(df.loc[(df['default'] == 0), 'AGE'], label = 'No Default', shade = True)\n",
        "sns.kdeplot(df.loc[(df['default'] == 1), 'AGE'], label = 'Default', shade = True)\n",
        "plt.xticks([0,10,20,25,30,35,40,45,50,55,60,70,80,90,100],rotation = 90)\n",
        "plt.ylabel(\" \")\n",
        "plt.legend()\n",
        "plt.savefig('Age',dpi=300)\n",
        "plt.show()"
      ],
      "metadata": {
        "colab": {
          "base_uri": "https://localhost:8080/",
          "height": 299
        },
        "id": "TSvYzPavCE-k",
        "outputId": "825f3c79-996e-454b-d58e-c4879dc8e9ec"
      },
      "execution_count": 119,
      "outputs": [
        {
          "output_type": "display_data",
          "data": {
            "text/plain": [
              "<Figure size 864x288 with 1 Axes>"
            ],
            "image/png": "[encoded data removed]"
          },
          "metadata": {}
        }
      ]
    },
    {
      "cell_type": "markdown",
      "source": [
        "We can notice that defaulter clients are  with age >25 and less than 40  mostly"
      ],
      "metadata": {
        "id": "TZmG0VECDEDg"
      }
    },
    {
      "cell_type": "markdown",
      "source": [
        "As seen earlier the data set is imbalanced so , let us try to balance it using SMOTE Technique.\n"
      ],
      "metadata": {
        "id": "B_WSE0S_EPEU"
      }
    },
    {
      "cell_type": "code",
      "source": [
        "#https://www.geeksforgeeks.org/ml-handling-imbalanced-data-with-smote-and-near-miss-algorithm-in-python/\n"
      ],
      "metadata": {
        "id": "Y6jLBOekDP4U"
      },
      "execution_count": 33,
      "outputs": []
    },
    {
      "cell_type": "code",
      "source": [
        "X= df.drop([\"default\"],axis=\"columns\")\n",
        "y=df[\"default\"]"
      ],
      "metadata": {
        "id": "NIVVTWLlFcZN"
      },
      "execution_count": 34,
      "outputs": []
    },
    {
      "cell_type": "code",
      "source": [
        "df.shape"
      ],
      "metadata": {
        "colab": {
          "base_uri": "https://localhost:8080/"
        },
        "id": "yph1LxJWF5bF",
        "outputId": "7aaa996b-f610-4de7-c517-66709a451045"
      },
      "execution_count": 35,
      "outputs": [
        {
          "output_type": "execute_result",
          "data": {
            "text/plain": [
              "(30000, 25)"
            ]
          },
          "metadata": {},
          "execution_count": 35
        }
      ]
    },
    {
      "cell_type": "code",
      "source": [
        "X.shape"
      ],
      "metadata": {
        "colab": {
          "base_uri": "https://localhost:8080/"
        },
        "id": "Ya7zyHhPF0VV",
        "outputId": "4c3c713d-52bd-45d3-8e70-f691fa245691"
      },
      "execution_count": 36,
      "outputs": [
        {
          "output_type": "execute_result",
          "data": {
            "text/plain": [
              "(30000, 24)"
            ]
          },
          "metadata": {},
          "execution_count": 36
        }
      ]
    },
    {
      "cell_type": "code",
      "source": [
        "X.head()"
      ],
      "metadata": {
        "colab": {
          "base_uri": "https://localhost:8080/",
          "height": 236
        },
        "id": "uedWwvTPGBjL",
        "outputId": "f1a84116-1bf3-420c-faeb-bb79b4f12bfd"
      },
      "execution_count": 37,
      "outputs": [
        {
          "output_type": "execute_result",
          "data": {
            "text/plain": [
              "   ID  LIMIT_BAL  SEX  EDUCATION  MARRIAGE  AGE  PAY_0  PAY_2  PAY_3  PAY_4  \\\n",
              "0   1    20000.0    2          2         1   24      2      2     -1     -1   \n",
              "1   2   120000.0    2          2         2   26     -1      2      0      0   \n",
              "2   3    90000.0    2          2         2   34      0      0      0      0   \n",
              "3   4    50000.0    2          2         1   37      0      0      0      0   \n",
              "4   5    50000.0    1          2         1   57     -1      0     -1      0   \n",
              "\n",
              "   ...  BILL_AMT3  BILL_AMT4  BILL_AMT5  BILL_AMT6  PAY_AMT1  PAY_AMT2  \\\n",
              "0  ...      689.0        0.0        0.0        0.0       0.0     689.0   \n",
              "1  ...     2682.0     3272.0     3455.0     3261.0       0.0    1000.0   \n",
              "2  ...    13559.0    14331.0    14948.0    15549.0    1518.0    1500.0   \n",
              "3  ...    49291.0    28314.0    28959.0    29547.0    2000.0    2019.0   \n",
              "4  ...    35835.0    20940.0    19146.0    19131.0    2000.0   36681.0   \n",
              "\n",
              "   PAY_AMT3  PAY_AMT4  PAY_AMT5  PAY_AMT6  \n",
              "0       0.0       0.0       0.0       0.0  \n",
              "1    1000.0    1000.0       0.0    2000.0  \n",
              "2    1000.0    1000.0    1000.0    5000.0  \n",
              "3    1200.0    1100.0    1069.0    1000.0  \n",
              "4   10000.0    9000.0     689.0     679.0  \n",
              "\n",
              "[5 rows x 24 columns]"
            ],
            "text/html": [
              "\n",
              "  <div id=\"df-4c0b7065-58fd-4afe-97b7-037f532aa9f2\">\n",
              "    <div class=\"colab-df-container\">\n",
              "      <div>\n",
              "<style scoped>\n",
              "    .dataframe tbody tr th:only-of-type {\n",
              "        vertical-align: middle;\n",
              "    }\n",
              "\n",
              "    .dataframe tbody tr th {\n",
              "        vertical-align: top;\n",
              "    }\n",
              "\n",
              "    .dataframe thead th {\n",
              "        text-align: right;\n",
              "    }\n",
              "</style>\n",
              "<table border=\"1\" class=\"dataframe\">\n",
              "  <thead>\n",
              "    <tr style=\"text-align: right;\">\n",
              "      <th></th>\n",
              "      <th>ID</th>\n",
              "      <th>LIMIT_BAL</th>\n",
              "      <th>SEX</th>\n",
              "      <th>EDUCATION</th>\n",
              "      <th>MARRIAGE</th>\n",
              "      <th>AGE</th>\n",
              "      <th>PAY_0</th>\n",
              "      <th>PAY_2</th>\n",
              "      <th>PAY_3</th>\n",
              "      <th>PAY_4</th>\n",
              "      <th>...</th>\n",
              "      <th>BILL_AMT3</th>\n",
              "      <th>BILL_AMT4</th>\n",
              "      <th>BILL_AMT5</th>\n",
              "      <th>BILL_AMT6</th>\n",
              "      <th>PAY_AMT1</th>\n",
              "      <th>PAY_AMT2</th>\n",
              "      <th>PAY_AMT3</th>\n",
              "      <th>PAY_AMT4</th>\n",
              "      <th>PAY_AMT5</th>\n",
              "      <th>PAY_AMT6</th>\n",
              "    </tr>\n",
              "  </thead>\n",
              "  <tbody>\n",
              "    <tr>\n",
              "      <th>0</th>\n",
              "      <td>1</td>\n",
              "      <td>20000.0</td>\n",
              "      <td>2</td>\n",
              "      <td>2</td>\n",
              "      <td>1</td>\n",
              "      <td>24</td>\n",
              "      <td>2</td>\n",
              "      <td>2</td>\n",
              "      <td>-1</td>\n",
              "      <td>-1</td>\n",
              "      <td>...</td>\n",
              "      <td>689.0</td>\n",
              "      <td>0.0</td>\n",
              "      <td>0.0</td>\n",
              "      <td>0.0</td>\n",
              "      <td>0.0</td>\n",
              "      <td>689.0</td>\n",
              "      <td>0.0</td>\n",
              "      <td>0.0</td>\n",
              "      <td>0.0</td>\n",
              "      <td>0.0</td>\n",
              "    </tr>\n",
              "    <tr>\n",
              "      <th>1</th>\n",
              "      <td>2</td>\n",
              "      <td>120000.0</td>\n",
              "      <td>2</td>\n",
              "      <td>2</td>\n",
              "      <td>2</td>\n",
              "      <td>26</td>\n",
              "      <td>-1</td>\n",
              "      <td>2</td>\n",
              "      <td>0</td>\n",
              "      <td>0</td>\n",
              "      <td>...</td>\n",
              "      <td>2682.0</td>\n",
              "      <td>3272.0</td>\n",
              "      <td>3455.0</td>\n",
              "      <td>3261.0</td>\n",
              "      <td>0.0</td>\n",
              "      <td>1000.0</td>\n",
              "      <td>1000.0</td>\n",
              "      <td>1000.0</td>\n",
              "      <td>0.0</td>\n",
              "      <td>2000.0</td>\n",
              "    </tr>\n",
              "    <tr>\n",
              "      <th>2</th>\n",
              "      <td>3</td>\n",
              "      <td>90000.0</td>\n",
              "      <td>2</td>\n",
              "      <td>2</td>\n",
              "      <td>2</td>\n",
              "      <td>34</td>\n",
              "      <td>0</td>\n",
              "      <td>0</td>\n",
              "      <td>0</td>\n",
              "      <td>0</td>\n",
              "      <td>...</td>\n",
              "      <td>13559.0</td>\n",
              "      <td>14331.0</td>\n",
              "      <td>14948.0</td>\n",
              "      <td>15549.0</td>\n",
              "      <td>1518.0</td>\n",
              "      <td>1500.0</td>\n",
              "      <td>1000.0</td>\n",
              "      <td>1000.0</td>\n",
              "      <td>1000.0</td>\n",
              "      <td>5000.0</td>\n",
              "    </tr>\n",
              "    <tr>\n",
              "      <th>3</th>\n",
              "      <td>4</td>\n",
              "      <td>50000.0</td>\n",
              "      <td>2</td>\n",
              "      <td>2</td>\n",
              "      <td>1</td>\n",
              "      <td>37</td>\n",
              "      <td>0</td>\n",
              "      <td>0</td>\n",
              "      <td>0</td>\n",
              "      <td>0</td>\n",
              "      <td>...</td>\n",
              "      <td>49291.0</td>\n",
              "      <td>28314.0</td>\n",
              "      <td>28959.0</td>\n",
              "      <td>29547.0</td>\n",
              "      <td>2000.0</td>\n",
              "      <td>2019.0</td>\n",
              "      <td>1200.0</td>\n",
              "      <td>1100.0</td>\n",
              "      <td>1069.0</td>\n",
              "      <td>1000.0</td>\n",
              "    </tr>\n",
              "    <tr>\n",
              "      <th>4</th>\n",
              "      <td>5</td>\n",
              "      <td>50000.0</td>\n",
              "      <td>1</td>\n",
              "      <td>2</td>\n",
              "      <td>1</td>\n",
              "      <td>57</td>\n",
              "      <td>-1</td>\n",
              "      <td>0</td>\n",
              "      <td>-1</td>\n",
              "      <td>0</td>\n",
              "      <td>...</td>\n",
              "      <td>35835.0</td>\n",
              "      <td>20940.0</td>\n",
              "      <td>19146.0</td>\n",
              "      <td>19131.0</td>\n",
              "      <td>2000.0</td>\n",
              "      <td>36681.0</td>\n",
              "      <td>10000.0</td>\n",
              "      <td>9000.0</td>\n",
              "      <td>689.0</td>\n",
              "      <td>679.0</td>\n",
              "    </tr>\n",
              "  </tbody>\n",
              "</table>\n",
              "<p>5 rows × 24 columns</p>\n",
              "</div>\n",
              "      <button class=\"colab-df-convert\" onclick=\"convertToInteractive('df-4c0b7065-58fd-4afe-97b7-037f532aa9f2')\"\n",
              "              title=\"Convert this dataframe to an interactive table.\"\n",
              "              style=\"display:none;\">\n",
              "        \n",
              "  <svg xmlns=\"http://www.w3.org/2000/svg\" height=\"24px\"viewBox=\"0 0 24 24\"\n",
              "       width=\"24px\">\n",
              "    <path d=\"M0 0h24v24H0V0z\" fill=\"none\"/>\n",
              "    <path d=\"M18.56 5.44l.94 2.06.94-2.06 2.06-.94-2.06-.94-.94-2.06-.94 2.06-2.06.94zm-11 1L8.5 8.5l.94-2.06 2.06-.94-2.06-.94L8.5 2.5l-.94 2.06-2.06.94zm10 10l.94 2.06.94-2.06 2.06-.94-2.06-.94-.94-2.06-.94 2.06-2.06.94z\"/><path d=\"M17.41 7.96l-1.37-1.37c-.4-.4-.92-.59-1.43-.59-.52 0-1.04.2-1.43.59L10.3 9.45l-7.72 7.72c-.78.78-.78 2.05 0 2.83L4 21.41c.39.39.9.59 1.41.59.51 0 1.02-.2 1.41-.59l7.78-7.78 2.81-2.81c.8-.78.8-2.07 0-2.86zM5.41 20L4 18.59l7.72-7.72 1.47 1.35L5.41 20z\"/>\n",
              "  </svg>\n",
              "      </button>\n",
              "      \n",
              "  <style>\n",
              "    .colab-df-container {\n",
              "      display:flex;\n",
              "      flex-wrap:wrap;\n",
              "      gap: 12px;\n",
              "    }\n",
              "\n",
              "    .colab-df-convert {\n",
              "      background-color: #E8F0FE;\n",
              "      border: none;\n",
              "      border-radius: 50%;\n",
              "      cursor: pointer;\n",
              "      display: none;\n",
              "      fill: #1967D2;\n",
              "      height: 32px;\n",
              "      padding: 0 0 0 0;\n",
              "      width: 32px;\n",
              "    }\n",
              "\n",
              "    .colab-df-convert:hover {\n",
              "      background-color: #E2EBFA;\n",
              "      box-shadow: 0px 1px 2px rgba(60, 64, 67, 0.3), 0px 1px 3px 1px rgba(60, 64, 67, 0.15);\n",
              "      fill: #174EA6;\n",
              "    }\n",
              "\n",
              "    [theme=dark] .colab-df-convert {\n",
              "      background-color: #3B4455;\n",
              "      fill: #D2E3FC;\n",
              "    }\n",
              "\n",
              "    [theme=dark] .colab-df-convert:hover {\n",
              "      background-color: #434B5C;\n",
              "      box-shadow: 0px 1px 3px 1px rgba(0, 0, 0, 0.15);\n",
              "      filter: drop-shadow(0px 1px 2px rgba(0, 0, 0, 0.3));\n",
              "      fill: #FFFFFF;\n",
              "    }\n",
              "  </style>\n",
              "\n",
              "      <script>\n",
              "        const buttonEl =\n",
              "          document.querySelector('#df-4c0b7065-58fd-4afe-97b7-037f532aa9f2 button.colab-df-convert');\n",
              "        buttonEl.style.display =\n",
              "          google.colab.kernel.accessAllowed ? 'block' : 'none';\n",
              "\n",
              "        async function convertToInteractive(key) {\n",
              "          const element = document.querySelector('#df-4c0b7065-58fd-4afe-97b7-037f532aa9f2');\n",
              "          const dataTable =\n",
              "            await google.colab.kernel.invokeFunction('convertToInteractive',\n",
              "                                                     [key], {});\n",
              "          if (!dataTable) return;\n",
              "\n",
              "          const docLinkHtml = 'Like what you see? Visit the ' +\n",
              "            '<a target=\"_blank\" href=https://colab.research.google.com/notebooks/data_table.ipynb>data table notebook</a>'\n",
              "            + ' to learn more about interactive tables.';\n",
              "          element.innerHTML = '';\n",
              "          dataTable['output_type'] = 'display_data';\n",
              "          await google.colab.output.renderOutput(dataTable, element);\n",
              "          const docLink = document.createElement('div');\n",
              "          docLink.innerHTML = docLinkHtml;\n",
              "          element.appendChild(docLink);\n",
              "        }\n",
              "      </script>\n",
              "    </div>\n",
              "  </div>\n",
              "  "
            ]
          },
          "metadata": {},
          "execution_count": 37
        }
      ]
    },
    {
      "cell_type": "code",
      "source": [
        "y.shape"
      ],
      "metadata": {
        "colab": {
          "base_uri": "https://localhost:8080/"
        },
        "id": "MECoOjxHF9yU",
        "outputId": "91943c90-591e-48d8-856a-a47adbe55f8d"
      },
      "execution_count": 38,
      "outputs": [
        {
          "output_type": "execute_result",
          "data": {
            "text/plain": [
              "(30000,)"
            ]
          },
          "metadata": {},
          "execution_count": 38
        }
      ]
    },
    {
      "cell_type": "code",
      "source": [
        "y"
      ],
      "metadata": {
        "colab": {
          "base_uri": "https://localhost:8080/"
        },
        "id": "fay0nscZGHVU",
        "outputId": "52fe5c57-2fbc-4dad-a84f-9066c32f429f"
      },
      "execution_count": 39,
      "outputs": [
        {
          "output_type": "execute_result",
          "data": {
            "text/plain": [
              "0        1\n",
              "1        1\n",
              "2        0\n",
              "3        0\n",
              "4        0\n",
              "        ..\n",
              "29995    0\n",
              "29996    0\n",
              "29997    1\n",
              "29998    1\n",
              "29999    1\n",
              "Name: default, Length: 30000, dtype: int64"
            ]
          },
          "metadata": {},
          "execution_count": 39
        }
      ]
    },
    {
      "cell_type": "markdown",
      "source": [
        "#Test Train split\n"
      ],
      "metadata": {
        "id": "I5n3zrV7FRaD"
      }
    },
    {
      "cell_type": "code",
      "source": [
        "from sklearn.model_selection import train_test_split\n",
        "  \n",
        "# split into 75:25 ration with stratifying y\n",
        "X_train, X_test, y_train, y_test = train_test_split(X, y, test_size = 0.25, random_state = 0,stratify=y)"
      ],
      "metadata": {
        "id": "wtswBqcZFHQr"
      },
      "execution_count": 40,
      "outputs": []
    },
    {
      "cell_type": "code",
      "source": [
        "print(\"X_train\",X_train.shape,\"y_train\",y_train.shape,\"X_test\",X_test.shape,\"y_test\",y_test.shape,sep=\"\\n\")"
      ],
      "metadata": {
        "colab": {
          "base_uri": "https://localhost:8080/"
        },
        "id": "SRd6r07ZGOfr",
        "outputId": "ff26c65d-f9f0-4d80-cb96-d5b645b87daa"
      },
      "execution_count": 41,
      "outputs": [
        {
          "output_type": "stream",
          "name": "stdout",
          "text": [
            "X_train\n",
            "(22500, 24)\n",
            "y_train\n",
            "(22500,)\n",
            "X_test\n",
            "(7500, 24)\n",
            "y_test\n",
            "(7500,)\n"
          ]
        }
      ]
    },
    {
      "cell_type": "code",
      "source": [
        "y_train.value_counts(normalize=True)"
      ],
      "metadata": {
        "colab": {
          "base_uri": "https://localhost:8080/"
        },
        "id": "e0JMr7RBG7y-",
        "outputId": "01bf51c3-94df-4cf6-db90-1bca9520f02c"
      },
      "execution_count": 42,
      "outputs": [
        {
          "output_type": "execute_result",
          "data": {
            "text/plain": [
              "0    0.7788\n",
              "1    0.2212\n",
              "Name: default, dtype: float64"
            ]
          },
          "metadata": {},
          "execution_count": 42
        }
      ]
    },
    {
      "cell_type": "code",
      "source": [
        "y_test.value_counts(normalize=True)"
      ],
      "metadata": {
        "colab": {
          "base_uri": "https://localhost:8080/"
        },
        "id": "dSHUBLhoHAm8",
        "outputId": "f961c7f2-2c65-4d47-a01d-a880c0884e8b"
      },
      "execution_count": 43,
      "outputs": [
        {
          "output_type": "execute_result",
          "data": {
            "text/plain": [
              "0    0.7788\n",
              "1    0.2212\n",
              "Name: default, dtype: float64"
            ]
          },
          "metadata": {},
          "execution_count": 43
        }
      ]
    },
    {
      "cell_type": "code",
      "source": [
        "#using smote to deal with Imbalance in data.\n",
        "print(\"Before OverSampling, counts of label '1': {}\".format(sum(y_train == 1)))\n",
        "print(\"Before OverSampling, counts of label '0': {} \\n\".format(sum(y_train == 0)))\n",
        "  \n",
        "# import SMOTE module from imblearn library\n",
        "\n",
        "from imblearn.over_sampling import SMOTE\n",
        "sm = SMOTE(random_state = 2)\n",
        "X_train_res, y_train_res = sm.fit_resample(X_train, y_train.ravel())\n",
        "  \n",
        "print('After OverSampling, the shape of train_X: {}'.format(X_train_res.shape))\n",
        "print('After OverSampling, the shape of train_y: {} \\n'.format(y_train_res.shape))\n",
        "  \n",
        "print(\"After OverSampling, counts of label '1': {}\".format(sum(y_train_res == 1)))\n",
        "print(\"After OverSampling, counts of label '0': {}\".format(sum(y_train_res == 0)))"
      ],
      "metadata": {
        "colab": {
          "base_uri": "https://localhost:8080/"
        },
        "id": "8nbmBCokHKHI",
        "outputId": "8790bc73-3b98-4c5c-c6eb-630eacbbad4d"
      },
      "execution_count": 44,
      "outputs": [
        {
          "output_type": "stream",
          "name": "stdout",
          "text": [
            "Before OverSampling, counts of label '1': 4977\n",
            "Before OverSampling, counts of label '0': 17523 \n",
            "\n",
            "After OverSampling, the shape of train_X: (35046, 24)\n",
            "After OverSampling, the shape of train_y: (35046,) \n",
            "\n",
            "After OverSampling, counts of label '1': 17523\n",
            "After OverSampling, counts of label '0': 17523\n"
          ]
        }
      ]
    },
    {
      "cell_type": "markdown",
      "source": [
        "#Model for classification\n"
      ],
      "metadata": {
        "id": "j4VBDPcbIiFp"
      }
    },
    {
      "cell_type": "markdown",
      "source": [
        "#XGboost Classifier"
      ],
      "metadata": {
        "id": "djQu9dY4hfRa"
      }
    },
    {
      "cell_type": "markdown",
      "source": [
        "https://xgboost.readthedocs.io/en/stable/python/python_api.html"
      ],
      "metadata": {
        "id": "4g78H89vJpPL"
      }
    },
    {
      "cell_type": "code",
      "source": [
        "from xgboost import XGBClassifier\n",
        "from sklearn.model_selection import GridSearchCV\n"
      ],
      "metadata": {
        "id": "g8IMZUXnICkF"
      },
      "execution_count": 45,
      "outputs": []
    },
    {
      "cell_type": "code",
      "source": [
        "space={'n_estimators':[50,100,200],\n",
        "'learning_rate':[0.05,0.1],\n",
        "'max_depth':[10,20]}"
      ],
      "metadata": {
        "id": "Nj-_6zuoOD3_"
      },
      "execution_count": 46,
      "outputs": []
    },
    {
      "cell_type": "code",
      "source": [
        "Classifier = XGBClassifier()"
      ],
      "metadata": {
        "id": "W3lpHfKuImtr"
      },
      "execution_count": 47,
      "outputs": []
    },
    {
      "cell_type": "code",
      "source": [
        "#xg_search=GridSearchCV(Classifier,space,scoring='f1',n_jobs=-1,verbose=3)"
      ],
      "metadata": {
        "id": "P02J8dqAO8B7"
      },
      "execution_count": 48,
      "outputs": []
    },
    {
      "cell_type": "code",
      "source": [
        "#result=xg_search.fit(X_train_res, y_train_res)  commenting as it takes 20 minutes to run  "
      ],
      "metadata": {
        "colab": {
          "base_uri": "https://localhost:8080/"
        },
        "id": "gt2m5SSNPTmC",
        "outputId": "ea7b2bff-7576-425b-c2b2-29fcd237d811"
      },
      "execution_count": 49,
      "outputs": [
        {
          "output_type": "stream",
          "name": "stdout",
          "text": [
            "Fitting 5 folds for each of 12 candidates, totalling 60 fits\n"
          ]
        }
      ]
    },
    {
      "cell_type": "code",
      "source": [
        "#print(result.best_params_)"
      ],
      "metadata": {
        "colab": {
          "base_uri": "https://localhost:8080/"
        },
        "id": "KzIXMaZXd63b",
        "outputId": "3977436a-00a3-4741-8fbd-8e262f0e3b93"
      },
      "execution_count": 50,
      "outputs": [
        {
          "output_type": "stream",
          "name": "stdout",
          "text": [
            "{'learning_rate': 0.1, 'max_depth': 20, 'n_estimators': 200}\n"
          ]
        }
      ]
    },
    {
      "cell_type": "code",
      "source": [
        "#best_params=dict(result.best_params_)\n",
        "#print(best_params)"
      ],
      "metadata": {
        "colab": {
          "base_uri": "https://localhost:8080/"
        },
        "id": "pWyMYi9jhEEY",
        "outputId": "226dd09b-bc10-4580-aa76-ff98cb78be8c"
      },
      "execution_count": 60,
      "outputs": [
        {
          "output_type": "stream",
          "name": "stdout",
          "text": [
            "{'learning_rate': 0.1, 'max_depth': 20, 'n_estimators': 200}\n"
          ]
        }
      ]
    },
    {
      "cell_type": "code",
      "source": [
        "XGclassifier=XGBClassifier(learning_rate=0.1,max_depth=20,n_estimators=200)\n"
      ],
      "metadata": {
        "id": "FlFeW3Z6eG0s"
      },
      "execution_count": 51,
      "outputs": []
    },
    {
      "cell_type": "code",
      "source": [
        "XGclassifier.fit(X_train_res, y_train_res)"
      ],
      "metadata": {
        "colab": {
          "base_uri": "https://localhost:8080/"
        },
        "id": "d-jfzpUcekiD",
        "outputId": "8b4da643-cdbb-4402-8505-f029055ecddc"
      },
      "execution_count": 52,
      "outputs": [
        {
          "output_type": "execute_result",
          "data": {
            "text/plain": [
              "XGBClassifier(max_depth=20, n_estimators=200)"
            ]
          },
          "metadata": {},
          "execution_count": 52
        }
      ]
    },
    {
      "cell_type": "code",
      "source": [
        "y_pred=XGclassifier.predict(X_test)"
      ],
      "metadata": {
        "id": "lrxMEothetQ8"
      },
      "execution_count": 53,
      "outputs": []
    },
    {
      "cell_type": "code",
      "source": [
        "print(classification_report(y_test,y_pred))"
      ],
      "metadata": {
        "colab": {
          "base_uri": "https://localhost:8080/"
        },
        "id": "wQjMDvX-fKnu",
        "outputId": "0e54d65f-f016-4669-ee20-45299cec6793"
      },
      "execution_count": 54,
      "outputs": [
        {
          "output_type": "stream",
          "name": "stdout",
          "text": [
            "              precision    recall  f1-score   support\n",
            "\n",
            "           0       0.84      0.88      0.86      5841\n",
            "           1       0.50      0.42      0.46      1659\n",
            "\n",
            "    accuracy                           0.78      7500\n",
            "   macro avg       0.67      0.65      0.66      7500\n",
            "weighted avg       0.77      0.78      0.77      7500\n",
            "\n"
          ]
        }
      ]
    },
    {
      "cell_type": "code",
      "source": [
        "y_pred_proba=XGclassifier.predict_proba(X_test)"
      ],
      "metadata": {
        "id": "yL4kLA7mfjLr"
      },
      "execution_count": 55,
      "outputs": []
    },
    {
      "cell_type": "code",
      "source": [
        "print(y_pred,y_pred_proba,sep=\"\\n\")"
      ],
      "metadata": {
        "colab": {
          "base_uri": "https://localhost:8080/"
        },
        "id": "0V2_uoH5fv2f",
        "outputId": "022f5fd5-2953-4aa7-dd79-23051942138b"
      },
      "execution_count": 58,
      "outputs": [
        {
          "output_type": "stream",
          "name": "stdout",
          "text": [
            "[0 0 0 ... 0 0 0]\n",
            "[[0.9916767  0.00832334]\n",
            " [0.9943293  0.00567074]\n",
            " [0.9688109  0.03118907]\n",
            " ...\n",
            " [0.83502215 0.16497786]\n",
            " [0.8274799  0.17252009]\n",
            " [0.9893053  0.01069466]]\n"
          ]
        }
      ]
    },
    {
      "cell_type": "markdown",
      "source": [
        "#using Logistic regressor\n",
        "\n",
        "https://scikit-learn.org/stable/modules/generated/sklearn.linear_model.LogisticRegression.html\n"
      ],
      "metadata": {
        "id": "MSE4Rs3nhjY0"
      }
    },
    {
      "cell_type": "code",
      "source": [
        "from sklearn.linear_model import LogisticRegression"
      ],
      "metadata": {
        "id": "EIc7MbU7g_08"
      },
      "execution_count": 61,
      "outputs": []
    },
    {
      "cell_type": "code",
      "source": [
        "lr_clf=LogisticRegression(random_state=0)\n",
        "lr_clf.fit(X_train_res,y_train_res)"
      ],
      "metadata": {
        "colab": {
          "base_uri": "https://localhost:8080/"
        },
        "id": "fKZKQQSoiSks",
        "outputId": "bc3357fa-ffe0-4a7e-98a7-3f4234ee6863"
      },
      "execution_count": 62,
      "outputs": [
        {
          "output_type": "stream",
          "name": "stderr",
          "text": [
            "/usr/local/lib/python3.7/dist-packages/sklearn/linear_model/_logistic.py:818: ConvergenceWarning: lbfgs failed to converge (status=1):\n",
            "STOP: TOTAL NO. of ITERATIONS REACHED LIMIT.\n",
            "\n",
            "Increase the number of iterations (max_iter) or scale the data as shown in:\n",
            "    https://scikit-learn.org/stable/modules/preprocessing.html\n",
            "Please also refer to the documentation for alternative solver options:\n",
            "    https://scikit-learn.org/stable/modules/linear_model.html#logistic-regression\n",
            "  extra_warning_msg=_LOGISTIC_SOLVER_CONVERGENCE_MSG,\n"
          ]
        },
        {
          "output_type": "execute_result",
          "data": {
            "text/plain": [
              "LogisticRegression(random_state=0)"
            ]
          },
          "metadata": {},
          "execution_count": 62
        }
      ]
    },
    {
      "cell_type": "code",
      "source": [
        "lr_y_pred=lr_clf.predict(X_test)\n",
        "lr_y_pred"
      ],
      "metadata": {
        "colab": {
          "base_uri": "https://localhost:8080/"
        },
        "id": "CGlH3FP2jTDc",
        "outputId": "39e40f42-f5e2-48e7-9eca-6cc42ec58e7a"
      },
      "execution_count": 63,
      "outputs": [
        {
          "output_type": "execute_result",
          "data": {
            "text/plain": [
              "array([1, 0, 0, ..., 0, 0, 0])"
            ]
          },
          "metadata": {},
          "execution_count": 63
        }
      ]
    },
    {
      "cell_type": "code",
      "source": [
        "lr_y_pred_proba=lr_clf.predict_proba(X_test)\n",
        "lr_y_pred_proba"
      ],
      "metadata": {
        "colab": {
          "base_uri": "https://localhost:8080/"
        },
        "id": "sE742mgDjg3k",
        "outputId": "a127c549-b67a-47e7-a9dd-cd43ee7abad0"
      },
      "execution_count": 65,
      "outputs": [
        {
          "output_type": "execute_result",
          "data": {
            "text/plain": [
              "array([[0.40064776, 0.59935224],\n",
              "       [0.89058826, 0.10941174],\n",
              "       [0.55248394, 0.44751606],\n",
              "       ...,\n",
              "       [0.6795616 , 0.3204384 ],\n",
              "       [0.526613  , 0.473387  ],\n",
              "       [0.80967474, 0.19032526]])"
            ]
          },
          "metadata": {},
          "execution_count": 65
        }
      ]
    },
    {
      "cell_type": "code",
      "source": [
        "print(classification_report(y_test,lr_y_pred))"
      ],
      "metadata": {
        "colab": {
          "base_uri": "https://localhost:8080/"
        },
        "id": "TWpmfWi4juET",
        "outputId": "9a50791b-552d-453d-f7d6-551313811d45"
      },
      "execution_count": 66,
      "outputs": [
        {
          "output_type": "stream",
          "name": "stdout",
          "text": [
            "              precision    recall  f1-score   support\n",
            "\n",
            "           0       0.84      0.59      0.70      5841\n",
            "           1       0.30      0.62      0.40      1659\n",
            "\n",
            "    accuracy                           0.60      7500\n",
            "   macro avg       0.57      0.60      0.55      7500\n",
            "weighted avg       0.72      0.60      0.63      7500\n",
            "\n"
          ]
        }
      ]
    },
    {
      "cell_type": "markdown",
      "source": [
        "#Using Support Vector Classifier\n",
        "https://scikit-learn.org/stable/modules/generated/sklearn.svm.SVC.html"
      ],
      "metadata": {
        "id": "KB27ROogkKEG"
      }
    },
    {
      "cell_type": "code",
      "source": [
        "from sklearn.svm import SVC"
      ],
      "metadata": {
        "id": "feEaVf7gksLr"
      },
      "execution_count": 67,
      "outputs": []
    },
    {
      "cell_type": "code",
      "source": [
        "SVC_clf=SVC(random_state=0,probability=True)"
      ],
      "metadata": {
        "id": "zHpYlIkxlEMI"
      },
      "execution_count": 73,
      "outputs": []
    },
    {
      "cell_type": "code",
      "source": [
        "SVC_clf.fit(X_train_res,y_train_res)"
      ],
      "metadata": {
        "colab": {
          "base_uri": "https://localhost:8080/"
        },
        "id": "xrjvKR43lr3c",
        "outputId": "64c99adf-54a5-4e72-e870-0ddf550f406f"
      },
      "execution_count": 74,
      "outputs": [
        {
          "output_type": "execute_result",
          "data": {
            "text/plain": [
              "SVC(probability=True, random_state=0)"
            ]
          },
          "metadata": {},
          "execution_count": 74
        }
      ]
    },
    {
      "cell_type": "code",
      "source": [
        "y_pred_SVC=SVC_clf.predict(X_test)\n",
        "y_pred"
      ],
      "metadata": {
        "colab": {
          "base_uri": "https://localhost:8080/"
        },
        "id": "hGIr0Iu_mNFC",
        "outputId": "4d9dee49-ac56-42b7-fef6-e1617eb9a496"
      },
      "execution_count": 75,
      "outputs": [
        {
          "output_type": "execute_result",
          "data": {
            "text/plain": [
              "array([0, 0, 0, ..., 0, 0, 0])"
            ]
          },
          "metadata": {},
          "execution_count": 75
        }
      ]
    },
    {
      "cell_type": "code",
      "source": [
        "y_pred_proba_SVC=SVC_clf.predict_proba(X_test)\n",
        "y_pred"
      ],
      "metadata": {
        "colab": {
          "base_uri": "https://localhost:8080/"
        },
        "id": "rO1VLgG6mb_5",
        "outputId": "7fabafb1-b9f7-4914-98ab-b09c387c6c08"
      },
      "execution_count": 76,
      "outputs": [
        {
          "output_type": "execute_result",
          "data": {
            "text/plain": [
              "array([0, 0, 0, ..., 0, 0, 0])"
            ]
          },
          "metadata": {},
          "execution_count": 76
        }
      ]
    },
    {
      "cell_type": "code",
      "source": [
        "print(classification_report(y_test,y_pred_SVC))"
      ],
      "metadata": {
        "colab": {
          "base_uri": "https://localhost:8080/"
        },
        "id": "61flQTXSpzFh",
        "outputId": "4b5e3f0b-fd1d-4121-cb88-9ad532c06f5e"
      },
      "execution_count": 77,
      "outputs": [
        {
          "output_type": "stream",
          "name": "stdout",
          "text": [
            "              precision    recall  f1-score   support\n",
            "\n",
            "           0       0.86      0.50      0.63      5841\n",
            "           1       0.29      0.72      0.41      1659\n",
            "\n",
            "    accuracy                           0.55      7500\n",
            "   macro avg       0.58      0.61      0.52      7500\n",
            "weighted avg       0.73      0.55      0.58      7500\n",
            "\n"
          ]
        }
      ]
    },
    {
      "cell_type": "markdown",
      "source": [
        "#using Decision Trees\n",
        "https://scikit-learn.org/stable/modules/generated/sklearn.tree.DecisionTreeClassifier.html#sklearn.tree.DecisionTreeClassifier"
      ],
      "metadata": {
        "id": "v4VWBL3Ip5ks"
      }
    },
    {
      "cell_type": "code",
      "source": [
        " from sklearn.tree import DecisionTreeClassifier"
      ],
      "metadata": {
        "id": "gUtmrUvop49V"
      },
      "execution_count": 78,
      "outputs": []
    },
    {
      "cell_type": "code",
      "source": [
        "dt_clf=DecisionTreeClassifier(random_state=0)"
      ],
      "metadata": {
        "id": "qbYNYI4QqFdQ"
      },
      "execution_count": 80,
      "outputs": []
    },
    {
      "cell_type": "code",
      "source": [
        "dt_clf.fit(X_train_res,y_train_res)"
      ],
      "metadata": {
        "colab": {
          "base_uri": "https://localhost:8080/"
        },
        "id": "NBUGGFdGqlz6",
        "outputId": "f43ddd27-3479-479b-f1a4-fcad0ed72398"
      },
      "execution_count": 81,
      "outputs": [
        {
          "output_type": "execute_result",
          "data": {
            "text/plain": [
              "DecisionTreeClassifier(random_state=0)"
            ]
          },
          "metadata": {},
          "execution_count": 81
        }
      ]
    },
    {
      "cell_type": "code",
      "source": [
        "y_pred_dt=dt_clf.predict(X_test)"
      ],
      "metadata": {
        "id": "CcWtVNnaqsIZ"
      },
      "execution_count": 82,
      "outputs": []
    },
    {
      "cell_type": "code",
      "source": [
        "y_pred_dt"
      ],
      "metadata": {
        "colab": {
          "base_uri": "https://localhost:8080/"
        },
        "id": "H6apf53grAIR",
        "outputId": "3462d3a0-de3d-42d5-9e3c-82377baa16b1"
      },
      "execution_count": 83,
      "outputs": [
        {
          "output_type": "execute_result",
          "data": {
            "text/plain": [
              "array([0, 0, 1, ..., 0, 0, 1])"
            ]
          },
          "metadata": {},
          "execution_count": 83
        }
      ]
    },
    {
      "cell_type": "code",
      "source": [
        "y_pred_dt_proba=dt_clf.predict_proba(X_test)"
      ],
      "metadata": {
        "id": "I9C4GFSCq6xw"
      },
      "execution_count": 84,
      "outputs": []
    },
    {
      "cell_type": "code",
      "source": [
        "y_pred_dt_proba"
      ],
      "metadata": {
        "colab": {
          "base_uri": "https://localhost:8080/"
        },
        "id": "ffKX8OnArITY",
        "outputId": "0ded6335-b0f1-4741-80e2-3532aa3690a3"
      },
      "execution_count": 85,
      "outputs": [
        {
          "output_type": "execute_result",
          "data": {
            "text/plain": [
              "array([[1., 0.],\n",
              "       [1., 0.],\n",
              "       [0., 1.],\n",
              "       ...,\n",
              "       [1., 0.],\n",
              "       [1., 0.],\n",
              "       [0., 1.]])"
            ]
          },
          "metadata": {},
          "execution_count": 85
        }
      ]
    },
    {
      "cell_type": "code",
      "source": [
        "print(classification_report(y_test,y_pred_dt))"
      ],
      "metadata": {
        "colab": {
          "base_uri": "https://localhost:8080/"
        },
        "id": "JuhxlIa8rNF6",
        "outputId": "497fad6e-d0ff-4531-9710-937257944983"
      },
      "execution_count": 86,
      "outputs": [
        {
          "output_type": "stream",
          "name": "stdout",
          "text": [
            "              precision    recall  f1-score   support\n",
            "\n",
            "           0       0.83      0.73      0.78      5841\n",
            "           1       0.34      0.48      0.40      1659\n",
            "\n",
            "    accuracy                           0.68      7500\n",
            "   macro avg       0.59      0.61      0.59      7500\n",
            "weighted avg       0.72      0.68      0.69      7500\n",
            "\n"
          ]
        }
      ]
    },
    {
      "cell_type": "markdown",
      "source": [
        "#using Random Forest classifier\n",
        "https://scikit-learn.org/stable/modules/generated/sklearn.ensemble.RandomForestClassifier.html"
      ],
      "metadata": {
        "id": "vMMRS4sdrdxY"
      }
    },
    {
      "cell_type": "code",
      "source": [
        " from sklearn.ensemble import RandomForestClassifier\n",
        " "
      ],
      "metadata": {
        "id": "-YN-C6d2rdKL"
      },
      "execution_count": 87,
      "outputs": []
    },
    {
      "cell_type": "code",
      "source": [
        "rf_clf=RandomForestClassifier(random_state=0,n_estimators=200,max_depth=20)"
      ],
      "metadata": {
        "id": "k1umibGhrm19"
      },
      "execution_count": 88,
      "outputs": []
    },
    {
      "cell_type": "code",
      "source": [
        "rf_clf.fit(X_train_res,y_train_res)"
      ],
      "metadata": {
        "colab": {
          "base_uri": "https://localhost:8080/"
        },
        "id": "lUdK_QynsC8B",
        "outputId": "9744c337-ea1d-45f1-b3eb-fc02f68a0250"
      },
      "execution_count": 89,
      "outputs": [
        {
          "output_type": "execute_result",
          "data": {
            "text/plain": [
              "RandomForestClassifier(max_depth=20, n_estimators=200, random_state=0)"
            ]
          },
          "metadata": {},
          "execution_count": 89
        }
      ]
    },
    {
      "cell_type": "code",
      "source": [
        "y_pred_rf=rf_clf.predict(X_test)"
      ],
      "metadata": {
        "id": "LeDsD2rts6wF"
      },
      "execution_count": 90,
      "outputs": []
    },
    {
      "cell_type": "code",
      "source": [
        "y_pred_rf"
      ],
      "metadata": {
        "colab": {
          "base_uri": "https://localhost:8080/"
        },
        "id": "I0JHjQCntCKw",
        "outputId": "13e56aed-d0c8-4165-d774-616c19723a1a"
      },
      "execution_count": 91,
      "outputs": [
        {
          "output_type": "execute_result",
          "data": {
            "text/plain": [
              "array([0, 0, 0, ..., 0, 0, 0])"
            ]
          },
          "metadata": {},
          "execution_count": 91
        }
      ]
    },
    {
      "cell_type": "code",
      "source": [
        "y_pred_proba_rf=rf_clf.predict_proba(X_test)"
      ],
      "metadata": {
        "id": "vR-URVq1tBeg"
      },
      "execution_count": 92,
      "outputs": []
    },
    {
      "cell_type": "code",
      "source": [
        "print(classification_report(y_test,y_pred_rf))"
      ],
      "metadata": {
        "colab": {
          "base_uri": "https://localhost:8080/"
        },
        "id": "vJ6mgMiEuhto",
        "outputId": "c07b1073-cad2-411c-a175-d64e560e69b7"
      },
      "execution_count": 93,
      "outputs": [
        {
          "output_type": "stream",
          "name": "stdout",
          "text": [
            "              precision    recall  f1-score   support\n",
            "\n",
            "           0       0.85      0.86      0.86      5841\n",
            "           1       0.50      0.48      0.49      1659\n",
            "\n",
            "    accuracy                           0.78      7500\n",
            "   macro avg       0.68      0.67      0.67      7500\n",
            "weighted avg       0.78      0.78      0.78      7500\n",
            "\n"
          ]
        }
      ]
    },
    {
      "cell_type": "markdown",
      "source": [
        "#Comparing models using F1 Score"
      ],
      "metadata": {
        "id": "08j6k1oRwPHn"
      }
    },
    {
      "cell_type": "code",
      "source": [
        "from sklearn.metrics import f1_score"
      ],
      "metadata": {
        "id": "g369UjxUwOLJ"
      },
      "execution_count": 94,
      "outputs": []
    },
    {
      "cell_type": "code",
      "source": [
        "print(\"F1 score of XG boost Classifier is: \", f1_score(y_test,y_pred,average='binary'))"
      ],
      "metadata": {
        "colab": {
          "base_uri": "https://localhost:8080/"
        },
        "id": "tdDTxXvfwT5p",
        "outputId": "8cdd70dd-c0f9-448d-bb20-5a6daa3e21a2"
      },
      "execution_count": 96,
      "outputs": [
        {
          "output_type": "stream",
          "name": "stdout",
          "text": [
            "F1 score of XG boost Classifier is:  0.4553745928338762\n"
          ]
        }
      ]
    },
    {
      "cell_type": "code",
      "source": [
        "print(\"F1 score of Logistic Regression is: \", f1_score(y_test, lr_y_pred, average='binary'))"
      ],
      "metadata": {
        "colab": {
          "base_uri": "https://localhost:8080/"
        },
        "id": "-9aXWuy3w3eI",
        "outputId": "5bc35cdb-0e70-4110-d7f1-5cfa7c7b6937"
      },
      "execution_count": 97,
      "outputs": [
        {
          "output_type": "stream",
          "name": "stdout",
          "text": [
            "F1 score of Logistic Regression is:  0.4030793525463877\n"
          ]
        }
      ]
    },
    {
      "cell_type": "code",
      "source": [
        "print(\"F1 score of SVM Classifier is: \", f1_score(y_test, y_pred_SVC, average='binary'))"
      ],
      "metadata": {
        "colab": {
          "base_uri": "https://localhost:8080/"
        },
        "id": "az_iL8jyxHgw",
        "outputId": "246cfe92-8277-434d-a863-9c13dc2fe39e"
      },
      "execution_count": 98,
      "outputs": [
        {
          "output_type": "stream",
          "name": "stdout",
          "text": [
            "F1 score of SVM Classifier is:  0.4118257261410788\n"
          ]
        }
      ]
    },
    {
      "cell_type": "code",
      "source": [
        "print(\"F1 score of Decision Tree Classifier is: \", f1_score(y_test, y_pred_dt, average='binary'))"
      ],
      "metadata": {
        "colab": {
          "base_uri": "https://localhost:8080/"
        },
        "id": "MIsjUBJoxWC4",
        "outputId": "54d9025b-3c96-4bea-93c4-8f3f0aeb5303"
      },
      "execution_count": 99,
      "outputs": [
        {
          "output_type": "stream",
          "name": "stdout",
          "text": [
            "F1 score of Decision Tree Classifier is:  0.3971208736659221\n"
          ]
        }
      ]
    },
    {
      "cell_type": "code",
      "source": [
        "print(\"F1 score of Random forest Classifier is: \", f1_score(y_test, y_pred_rf, average='binary'))"
      ],
      "metadata": {
        "colab": {
          "base_uri": "https://localhost:8080/"
        },
        "id": "SEngyzDuxd8w",
        "outputId": "bfa6c578-7440-4a4c-8e69-68e206670dbb"
      },
      "execution_count": 100,
      "outputs": [
        {
          "output_type": "stream",
          "name": "stdout",
          "text": [
            "F1 score of Random forest Classifier is:  0.4901840490797546\n"
          ]
        }
      ]
    },
    {
      "cell_type": "markdown",
      "source": [
        "On the basis of F1_score , we can notice Random forest performed well. "
      ],
      "metadata": {
        "id": "T4t2X6WXxkc0"
      }
    },
    {
      "cell_type": "markdown",
      "source": [
        "#Comparing models based on AUROC\n",
        "https://www.analyticsvidhya.com/blog/2020/06/auc-roc-curve-machine-learning/"
      ],
      "metadata": {
        "id": "uQ_eWvMQxsyH"
      }
    },
    {
      "cell_type": "code",
      "source": [
        "from sklearn.metrics import roc_curve"
      ],
      "metadata": {
        "id": "mUDo4FKGx6Dy"
      },
      "execution_count": 101,
      "outputs": []
    },
    {
      "cell_type": "code",
      "source": [
        "# roc curve for models\n",
        "fpr1, tpr1, thresh1 = roc_curve(y_test, y_pred_proba[:,1])\n",
        "fpr2, tpr2, thresh2 = roc_curve(y_test, lr_y_pred_proba[:,1])\n",
        "fpr3, tpr3, thresh3 = roc_curve(y_test, y_pred_proba_SVC[:,1])\n",
        "fpr4, tpr4, thresh4 = roc_curve(y_test, y_pred_dt_proba[:,1])\n",
        "fpr5, tpr5, thresh5 = roc_curve(y_test, y_pred_proba_rf[:,1])\n",
        "# roc curve for tpr = fpr \n",
        "random_probs = [0 for i in range(len(y_test))]\n",
        "p_fpr, p_tpr, _ = roc_curve(y_test, random_probs, pos_label=1)"
      ],
      "metadata": {
        "id": "MhKeWwBzywqI"
      },
      "execution_count": 108,
      "outputs": []
    },
    {
      "cell_type": "code",
      "source": [
        "from sklearn.metrics import roc_auc_score\n",
        "\n",
        "# auc scores\n",
        "auc_score1 = roc_auc_score(y_test, y_pred_proba[:,1])\n",
        "auc_score2 = roc_auc_score(y_test, lr_y_pred_proba[:,1])\n",
        "auc_score3 = roc_auc_score(y_test, y_pred_proba_SVC[:,1])\n",
        "auc_score4 = roc_auc_score(y_test, y_pred_dt_proba[:,1])\n",
        "auc_score5 = roc_auc_score(y_test, y_pred_proba_rf[:,1])\n",
        "print(auc_score1, auc_score2,auc_score3,auc_score4,auc_score5)"
      ],
      "metadata": {
        "colab": {
          "base_uri": "https://localhost:8080/"
        },
        "id": "a5fPtXTnztJ_",
        "outputId": "144c144d-99b2-4d7f-88a9-2983078e076e"
      },
      "execution_count": 109,
      "outputs": [
        {
          "output_type": "stream",
          "name": "stdout",
          "text": [
            "0.7413439778812017 0.6362255589889145 0.6604026699499773 0.606714306456851 0.7534578423872568\n"
          ]
        }
      ]
    },
    {
      "cell_type": "code",
      "source": [
        "plt.style.use('seaborn')\n",
        "\n",
        "# plot roc curves\n",
        "plt.plot(fpr1, tpr1, linestyle='--',color='orange', label='XG Boost Classifier')\n",
        "plt.plot(fpr2, tpr2, linestyle='--',color='green', label='Logistic regression')\n",
        "plt.plot(fpr3, tpr3, linestyle='--',color='red', label='SVC')\n",
        "plt.plot(fpr4, tpr4, linestyle='--',color='magenta', label='Decision Tree')\n",
        "plt.plot(fpr5, tpr5, linestyle='--',color='aqua', label='Random forest')\n",
        "plt.plot(p_fpr, p_tpr, linestyle='--', color='blue')\n",
        "# title\n",
        "plt.title('ROC curve')\n",
        "# x label\n",
        "plt.xlabel('False Positive Rate')\n",
        "# y label\n",
        "plt.ylabel('True Positive rate')\n",
        "\n",
        "plt.legend(loc='best')\n",
        "plt.savefig('ROC',dpi=300)\n",
        "plt.show();"
      ],
      "metadata": {
        "colab": {
          "base_uri": "https://localhost:8080/",
          "height": 376
        },
        "id": "Y_XUr6bEzu_S",
        "outputId": "f114fd83-74cf-4a91-fe4e-202e8d9ec540"
      },
      "execution_count": 111,
      "outputs": [
        {
          "output_type": "display_data",
          "data": {
            "text/plain": [
              "<Figure size 576x396 with 1 Axes>"
            ],
            "image/png": "[encoded data removed]"
          },
          "metadata": {}
        }
      ]
    },
    {
      "cell_type": "markdown",
      "source": [
        "Using AUROC also we can see Random Forest model perfromed well."
      ],
      "metadata": {
        "id": "_0NkwPrU2EK4"
      }
    }
  ]
}